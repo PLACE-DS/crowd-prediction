{
 "cells": [
  {
   "cell_type": "code",
   "execution_count": 1,
   "metadata": {
    "tags": []
   },
   "outputs": [],
   "source": [
    "import requests\n",
    "import datetime\n",
    "import pandas as pd\n",
    "import os\n",
    "from contextlib import closing\n",
    "import csv"
   ]
  },
  {
   "cell_type": "code",
   "execution_count": 2,
   "metadata": {},
   "outputs": [],
   "source": [
    "start_date = (datetime.date.today() - datetime.timedelta(days=1)).strftime(\"%Y-%m-%d\")\n",
    "end_date = datetime.date.today().strftime(\"%Y-%m-%d\")"
   ]
  },
  {
   "cell_type": "code",
   "execution_count": 52,
   "metadata": {},
   "outputs": [
    {
     "name": "stdout",
     "output_type": "stream",
     "text": [
      "2021120401\n",
      "2021120524\n"
     ]
    }
   ],
   "source": [
    "start_time = start_date.replace('-', '') + '01'  # starting hours for each day\n",
    "end_time = end_date.replace('-', '') + '24'  # last hour of each day\n",
    "fmt = 'csv'\n",
    "station = 240\n",
    "\n",
    "url = \"https://www.daggegevens.knmi.nl/klimatologie/uurgegevens/\"\n",
    "params = {\n",
    "    \"stns\": station,\n",
    "    \"start\": start_time,\n",
    "    \"end\": end_time,\n",
    "    \"fmt\": fmt\n",
    "}\n",
    "\n",
    "print(start_time)\n",
    "print(end_time)"
   ]
  },
  {
   "cell_type": "code",
   "execution_count": 51,
   "metadata": {},
   "outputs": [
    {
     "ename": "FileNotFoundError",
     "evalue": "[Errno 2] No such file or directory: 'data/raw/knmi_raw.csv'",
     "output_type": "error",
     "traceback": [
      "\u001b[0;31m---------------------------------------------------------------------------\u001b[0m",
      "\u001b[0;31mFileNotFoundError\u001b[0m                         Traceback (most recent call last)",
      "\u001b[0;32m<ipython-input-51-555e6800e0a9>\u001b[0m in \u001b[0;36m<module>\u001b[0;34m\u001b[0m\n\u001b[1;32m      5\u001b[0m \u001b[0;34m\u001b[0m\u001b[0m\n\u001b[1;32m      6\u001b[0m \u001b[0;34m\u001b[0m\u001b[0m\n\u001b[0;32m----> 7\u001b[0;31m \u001b[0;32mwith\u001b[0m \u001b[0mopen\u001b[0m\u001b[0;34m(\u001b[0m\u001b[0mfullpath\u001b[0m\u001b[0;34m,\u001b[0m \u001b[0;34m'w'\u001b[0m\u001b[0;34m)\u001b[0m \u001b[0;32mas\u001b[0m \u001b[0mf\u001b[0m\u001b[0;34m:\u001b[0m\u001b[0;34m\u001b[0m\u001b[0;34m\u001b[0m\u001b[0m\n\u001b[0m\u001b[1;32m      8\u001b[0m     \u001b[0;31m# create the csv writer\u001b[0m\u001b[0;34m\u001b[0m\u001b[0;34m\u001b[0m\u001b[0;34m\u001b[0m\u001b[0m\n\u001b[1;32m      9\u001b[0m     \u001b[0mwriter\u001b[0m \u001b[0;34m=\u001b[0m \u001b[0mcsv\u001b[0m\u001b[0;34m.\u001b[0m\u001b[0mwriter\u001b[0m\u001b[0;34m(\u001b[0m\u001b[0mf\u001b[0m\u001b[0;34m)\u001b[0m\u001b[0;34m\u001b[0m\u001b[0;34m\u001b[0m\u001b[0m\n",
      "\u001b[0;31mFileNotFoundError\u001b[0m: [Errno 2] No such file or directory: 'data/raw/knmi_raw.csv'"
     ]
    }
   ],
   "source": [
    "outname = f'knmi_raw.csv'\n",
    "outdir = os.path.join('data', 'raw')\n",
    "fullpath = os.path.join(outdir, outname)\n",
    "commentpath = os.path.join(outdir, 'knmi_comment.txt')\n",
    "\n",
    "\n",
    "with open(fullpath, 'w') as f:\n",
    "    # create the csv writer\n",
    "    writer = csv.writer(f)\n",
    "    \n",
    "    with requests.Session() as s:\n",
    "        download = s.post(url, data=params, stream=True)\n",
    "        download_iter = download.iter_lines() \n",
    "        \n",
    "        # the following section deals with the comment header in the obtained csv file\n",
    "        next_row = next(download_iter).decode('utf-8')\n",
    "        header_row = next_row\n",
    "        header_comment = \"\"\n",
    "        \n",
    "        #keep checking until we hit the first actual row\n",
    "        while '#' in next_row:\n",
    "            header_comment += next_row + '\\n'\n",
    "            header_row = next_row\n",
    "            next_row = next(download_iter).decode('utf-8')\n",
    "        \n",
    "        with open(commentpath, \"w\") as text_file:\n",
    "            text_file.write(header_comment)\n",
    "        \n",
    "        # the actual header is a comment, so we want to write that one\n",
    "        writer.writerow(header_row[1:].split(','))\n",
    "        writer.writerow(next_row.split(',')) # and this one bc the iterator hit it\n",
    "            \n",
    "        for line in download_iter:\n",
    "            row = line.decode('utf-8')\n",
    "            writer.writerow(row.split(','))\n"
   ]
  }
 ],
 "metadata": {
  "kernelspec": {
   "display_name": "Python 3",
   "language": "python",
   "name": "python3"
  },
  "language_info": {
   "codemirror_mode": {
    "name": "ipython",
    "version": 3
   },
   "file_extension": ".py",
   "mimetype": "text/x-python",
   "name": "python",
   "nbconvert_exporter": "python",
   "pygments_lexer": "ipython3",
   "version": "3.8.8"
  }
 },
 "nbformat": 4,
 "nbformat_minor": 4
}
