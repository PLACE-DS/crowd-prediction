{
 "cells": [
  {
   "cell_type": "code",
   "execution_count": 1,
   "id": "d43ed2e2",
   "metadata": {},
   "outputs": [],
   "source": [
    "import pandas as pd\n",
    "from datetime import datetime"
   ]
  },
  {
   "cell_type": "code",
   "execution_count": 2,
   "id": "1a9ffa56",
   "metadata": {},
   "outputs": [],
   "source": [
    "cmsa_df_filled = pd.read_csv('../data/cmsa_small_filled.csv')"
   ]
  },
  {
   "cell_type": "code",
   "execution_count": 3,
   "id": "50352c5b",
   "metadata": {},
   "outputs": [],
   "source": [
    "cmsa_df_zero = pd.read_csv('../data/cmsa_small_fill_zero.csv')"
   ]
  },
  {
   "cell_type": "markdown",
   "id": "273885ea",
   "metadata": {},
   "source": [
    "### Merge w. vacation, holidays & COVID stringency"
   ]
  },
  {
   "cell_type": "code",
   "execution_count": 4,
   "id": "e020f099",
   "metadata": {},
   "outputs": [],
   "source": [
    "vacation_df = pd.read_csv('../data/vacation.csv')"
   ]
  },
  {
   "cell_type": "code",
   "execution_count": 5,
   "id": "a3bc1d1f",
   "metadata": {},
   "outputs": [],
   "source": [
    "holiday_df = pd.read_csv('../data/holiday.csv')"
   ]
  },
  {
   "cell_type": "code",
   "execution_count": 6,
   "id": "217963c8",
   "metadata": {},
   "outputs": [],
   "source": [
    "covid_string = pd.read_csv('../data/covid-stringency.csv')"
   ]
  },
  {
   "cell_type": "code",
   "execution_count": 7,
   "id": "974fbcb6",
   "metadata": {},
   "outputs": [],
   "source": [
    "new_row = {'Day':'2022-01-01', 'stringency_index':63.89}\n",
    "new_row2 = {'Day':'2022-01-02', 'stringency_index':63.89}\n",
    "covid_string = covid_string.append(new_row, ignore_index=True)\n",
    "covid_string = covid_string.append(new_row2, ignore_index=True)"
   ]
  },
  {
   "cell_type": "code",
   "execution_count": 8,
   "id": "195c3ad3",
   "metadata": {},
   "outputs": [
    {
     "data": {
      "text/html": [
       "<div>\n",
       "<style scoped>\n",
       "    .dataframe tbody tr th:only-of-type {\n",
       "        vertical-align: middle;\n",
       "    }\n",
       "\n",
       "    .dataframe tbody tr th {\n",
       "        vertical-align: top;\n",
       "    }\n",
       "\n",
       "    .dataframe thead th {\n",
       "        text-align: right;\n",
       "    }\n",
       "</style>\n",
       "<table border=\"1\" class=\"dataframe\">\n",
       "  <thead>\n",
       "    <tr style=\"text-align: right;\">\n",
       "      <th></th>\n",
       "      <th>Day</th>\n",
       "      <th>stringency_index</th>\n",
       "    </tr>\n",
       "  </thead>\n",
       "  <tbody>\n",
       "    <tr>\n",
       "      <th>0</th>\n",
       "      <td>2020-09-01</td>\n",
       "      <td>50.93</td>\n",
       "    </tr>\n",
       "    <tr>\n",
       "      <th>1</th>\n",
       "      <td>2020-09-02</td>\n",
       "      <td>50.93</td>\n",
       "    </tr>\n",
       "    <tr>\n",
       "      <th>2</th>\n",
       "      <td>2020-09-03</td>\n",
       "      <td>50.93</td>\n",
       "    </tr>\n",
       "    <tr>\n",
       "      <th>3</th>\n",
       "      <td>2020-09-04</td>\n",
       "      <td>50.93</td>\n",
       "    </tr>\n",
       "    <tr>\n",
       "      <th>4</th>\n",
       "      <td>2020-09-05</td>\n",
       "      <td>50.93</td>\n",
       "    </tr>\n",
       "    <tr>\n",
       "      <th>...</th>\n",
       "      <td>...</td>\n",
       "      <td>...</td>\n",
       "    </tr>\n",
       "    <tr>\n",
       "      <th>484</th>\n",
       "      <td>2021-12-29</td>\n",
       "      <td>63.89</td>\n",
       "    </tr>\n",
       "    <tr>\n",
       "      <th>485</th>\n",
       "      <td>2021-12-30</td>\n",
       "      <td>63.89</td>\n",
       "    </tr>\n",
       "    <tr>\n",
       "      <th>486</th>\n",
       "      <td>2021-12-31</td>\n",
       "      <td>63.89</td>\n",
       "    </tr>\n",
       "    <tr>\n",
       "      <th>487</th>\n",
       "      <td>2022-01-01</td>\n",
       "      <td>63.89</td>\n",
       "    </tr>\n",
       "    <tr>\n",
       "      <th>488</th>\n",
       "      <td>2022-01-02</td>\n",
       "      <td>63.89</td>\n",
       "    </tr>\n",
       "  </tbody>\n",
       "</table>\n",
       "<p>489 rows × 2 columns</p>\n",
       "</div>"
      ],
      "text/plain": [
       "            Day  stringency_index\n",
       "0    2020-09-01             50.93\n",
       "1    2020-09-02             50.93\n",
       "2    2020-09-03             50.93\n",
       "3    2020-09-04             50.93\n",
       "4    2020-09-05             50.93\n",
       "..          ...               ...\n",
       "484  2021-12-29             63.89\n",
       "485  2021-12-30             63.89\n",
       "486  2021-12-31             63.89\n",
       "487  2022-01-01             63.89\n",
       "488  2022-01-02             63.89\n",
       "\n",
       "[489 rows x 2 columns]"
      ]
     },
     "execution_count": 8,
     "metadata": {},
     "output_type": "execute_result"
    }
   ],
   "source": [
    "covid_string"
   ]
  },
  {
   "cell_type": "code",
   "execution_count": 9,
   "id": "8bc06a80",
   "metadata": {},
   "outputs": [],
   "source": [
    "def date_time_col(df):\n",
    "    df[\"datetime_utc\"] = pd.to_datetime(df[\"datetime\"], utc = True)\n",
    "    df[\"datetime\"] = df[\"datetime_utc\"].dt.tz_convert(\"Europe/Amsterdam\")\n",
    "    del df[\"datetime_utc\"]\n",
    "    df['datetime'] = df['datetime'].dt.strftime('%Y-%m-%d %H:%M:%S')\n",
    "    df = df.sort_values(by = \"datetime\", ascending = True)\n",
    "    return df"
   ]
  },
  {
   "cell_type": "code",
   "execution_count": 10,
   "id": "46c5c57e",
   "metadata": {},
   "outputs": [],
   "source": [
    "vacation_df = date_time_col(vacation_df)\n",
    "holiday_df = date_time_col(holiday_df)"
   ]
  },
  {
   "cell_type": "code",
   "execution_count": 11,
   "id": "ff6fd4ed",
   "metadata": {},
   "outputs": [],
   "source": [
    "covid_string[\"Day\"] = pd.to_datetime(covid_string[\"Day\"], utc = True)\n",
    "covid_string['Day'] = covid_string['Day'].dt.strftime('%Y-%m-%d %H:%M:%S')\n",
    "covid_string = covid_string.rename(columns={\"Day\": \"datetime\"})"
   ]
  },
  {
   "cell_type": "code",
   "execution_count": 12,
   "id": "f1a74d83",
   "metadata": {},
   "outputs": [
    {
     "data": {
      "text/html": [
       "<div>\n",
       "<style scoped>\n",
       "    .dataframe tbody tr th:only-of-type {\n",
       "        vertical-align: middle;\n",
       "    }\n",
       "\n",
       "    .dataframe tbody tr th {\n",
       "        vertical-align: top;\n",
       "    }\n",
       "\n",
       "    .dataframe thead th {\n",
       "        text-align: right;\n",
       "    }\n",
       "</style>\n",
       "<table border=\"1\" class=\"dataframe\">\n",
       "  <thead>\n",
       "    <tr style=\"text-align: right;\">\n",
       "      <th></th>\n",
       "      <th>datetime</th>\n",
       "      <th>stringency_index</th>\n",
       "    </tr>\n",
       "  </thead>\n",
       "  <tbody>\n",
       "    <tr>\n",
       "      <th>0</th>\n",
       "      <td>2020-09-01 00:00:00</td>\n",
       "      <td>50.93</td>\n",
       "    </tr>\n",
       "    <tr>\n",
       "      <th>1</th>\n",
       "      <td>2020-09-02 00:00:00</td>\n",
       "      <td>50.93</td>\n",
       "    </tr>\n",
       "    <tr>\n",
       "      <th>2</th>\n",
       "      <td>2020-09-03 00:00:00</td>\n",
       "      <td>50.93</td>\n",
       "    </tr>\n",
       "    <tr>\n",
       "      <th>3</th>\n",
       "      <td>2020-09-04 00:00:00</td>\n",
       "      <td>50.93</td>\n",
       "    </tr>\n",
       "    <tr>\n",
       "      <th>4</th>\n",
       "      <td>2020-09-05 00:00:00</td>\n",
       "      <td>50.93</td>\n",
       "    </tr>\n",
       "    <tr>\n",
       "      <th>...</th>\n",
       "      <td>...</td>\n",
       "      <td>...</td>\n",
       "    </tr>\n",
       "    <tr>\n",
       "      <th>484</th>\n",
       "      <td>2021-12-29 00:00:00</td>\n",
       "      <td>63.89</td>\n",
       "    </tr>\n",
       "    <tr>\n",
       "      <th>485</th>\n",
       "      <td>2021-12-30 00:00:00</td>\n",
       "      <td>63.89</td>\n",
       "    </tr>\n",
       "    <tr>\n",
       "      <th>486</th>\n",
       "      <td>2021-12-31 00:00:00</td>\n",
       "      <td>63.89</td>\n",
       "    </tr>\n",
       "    <tr>\n",
       "      <th>487</th>\n",
       "      <td>2022-01-01 00:00:00</td>\n",
       "      <td>63.89</td>\n",
       "    </tr>\n",
       "    <tr>\n",
       "      <th>488</th>\n",
       "      <td>2022-01-02 00:00:00</td>\n",
       "      <td>63.89</td>\n",
       "    </tr>\n",
       "  </tbody>\n",
       "</table>\n",
       "<p>489 rows × 2 columns</p>\n",
       "</div>"
      ],
      "text/plain": [
       "                datetime  stringency_index\n",
       "0    2020-09-01 00:00:00             50.93\n",
       "1    2020-09-02 00:00:00             50.93\n",
       "2    2020-09-03 00:00:00             50.93\n",
       "3    2020-09-04 00:00:00             50.93\n",
       "4    2020-09-05 00:00:00             50.93\n",
       "..                   ...               ...\n",
       "484  2021-12-29 00:00:00             63.89\n",
       "485  2021-12-30 00:00:00             63.89\n",
       "486  2021-12-31 00:00:00             63.89\n",
       "487  2022-01-01 00:00:00             63.89\n",
       "488  2022-01-02 00:00:00             63.89\n",
       "\n",
       "[489 rows x 2 columns]"
      ]
     },
     "execution_count": 12,
     "metadata": {},
     "output_type": "execute_result"
    }
   ],
   "source": [
    "covid_string"
   ]
  },
  {
   "cell_type": "code",
   "execution_count": 13,
   "id": "22eb9fd9",
   "metadata": {},
   "outputs": [],
   "source": [
    "cmsa_df_filled = cmsa_df_filled.set_index('datetime')\n",
    "cmsa_df_zero = cmsa_df_zero.set_index('datetime')\n",
    "vacation_df = vacation_df.set_index('datetime')\n",
    "holiday_df = holiday_df.set_index('datetime')\n",
    "covid_string = covid_string.set_index('datetime')"
   ]
  },
  {
   "cell_type": "code",
   "execution_count": 14,
   "id": "ae7fcfe8",
   "metadata": {},
   "outputs": [
    {
     "data": {
      "text/html": [
       "<div>\n",
       "<style scoped>\n",
       "    .dataframe tbody tr th:only-of-type {\n",
       "        vertical-align: middle;\n",
       "    }\n",
       "\n",
       "    .dataframe tbody tr th {\n",
       "        vertical-align: top;\n",
       "    }\n",
       "\n",
       "    .dataframe thead th {\n",
       "        text-align: right;\n",
       "    }\n",
       "</style>\n",
       "<table border=\"1\" class=\"dataframe\">\n",
       "  <thead>\n",
       "    <tr style=\"text-align: right;\">\n",
       "      <th></th>\n",
       "      <th>GAWW-11</th>\n",
       "      <th>GAWW-12</th>\n",
       "      <th>GAWW-14</th>\n",
       "    </tr>\n",
       "    <tr>\n",
       "      <th>datetime</th>\n",
       "      <th></th>\n",
       "      <th></th>\n",
       "      <th></th>\n",
       "    </tr>\n",
       "  </thead>\n",
       "  <tbody>\n",
       "    <tr>\n",
       "      <th>2020-09-01 00:00:00</th>\n",
       "      <td>104.0</td>\n",
       "      <td>113.0</td>\n",
       "      <td>32.0</td>\n",
       "    </tr>\n",
       "    <tr>\n",
       "      <th>2020-09-01 00:15:00</th>\n",
       "      <td>73.0</td>\n",
       "      <td>109.0</td>\n",
       "      <td>30.0</td>\n",
       "    </tr>\n",
       "    <tr>\n",
       "      <th>2020-09-01 00:30:00</th>\n",
       "      <td>84.0</td>\n",
       "      <td>88.0</td>\n",
       "      <td>27.0</td>\n",
       "    </tr>\n",
       "    <tr>\n",
       "      <th>2020-09-01 00:45:00</th>\n",
       "      <td>95.0</td>\n",
       "      <td>99.0</td>\n",
       "      <td>26.0</td>\n",
       "    </tr>\n",
       "    <tr>\n",
       "      <th>2020-09-01 01:00:00</th>\n",
       "      <td>63.0</td>\n",
       "      <td>84.0</td>\n",
       "      <td>43.0</td>\n",
       "    </tr>\n",
       "  </tbody>\n",
       "</table>\n",
       "</div>"
      ],
      "text/plain": [
       "                     GAWW-11  GAWW-12  GAWW-14\n",
       "datetime                                      \n",
       "2020-09-01 00:00:00    104.0    113.0     32.0\n",
       "2020-09-01 00:15:00     73.0    109.0     30.0\n",
       "2020-09-01 00:30:00     84.0     88.0     27.0\n",
       "2020-09-01 00:45:00     95.0     99.0     26.0\n",
       "2020-09-01 01:00:00     63.0     84.0     43.0"
      ]
     },
     "execution_count": 14,
     "metadata": {},
     "output_type": "execute_result"
    }
   ],
   "source": [
    "cmsa_df_filled.head()"
   ]
  },
  {
   "cell_type": "code",
   "execution_count": 15,
   "id": "d4826b8a",
   "metadata": {},
   "outputs": [],
   "source": [
    "cmsa_df_filled.index = pd.DatetimeIndex(cmsa_df_filled.index)\n",
    "cmsa_df_zero.index = pd.DatetimeIndex(cmsa_df_zero.index)"
   ]
  },
  {
   "cell_type": "code",
   "execution_count": 16,
   "id": "8df6d544",
   "metadata": {},
   "outputs": [],
   "source": [
    "vacation_df.index = pd.DatetimeIndex(vacation_df.index)\n",
    "holiday_df.index = pd.DatetimeIndex(holiday_df.index)\n",
    "covid_string.index = pd.DatetimeIndex(covid_string.index)"
   ]
  },
  {
   "cell_type": "code",
   "execution_count": 17,
   "id": "d907d715",
   "metadata": {},
   "outputs": [],
   "source": [
    "start_date = '2020-09-01 00:00:00'\n",
    "end_date = '2022-01-01 23:45:00'"
   ]
  },
  {
   "cell_type": "code",
   "execution_count": 18,
   "id": "4d4de46e",
   "metadata": {},
   "outputs": [
    {
     "data": {
      "text/plain": [
       "(46848, 3)"
      ]
     },
     "execution_count": 18,
     "metadata": {},
     "output_type": "execute_result"
    }
   ],
   "source": [
    "cmsa_df_filled.shape"
   ]
  },
  {
   "cell_type": "code",
   "execution_count": 19,
   "id": "51318ed7",
   "metadata": {},
   "outputs": [],
   "source": [
    "holiday_df = holiday_df.resample('15min').ffill(limit=96)\n",
    "vacation_df = vacation_df.resample('15min').ffill(limit=96)\n",
    "covid_string = covid_string.resample('15min').ffill(limit=96)"
   ]
  },
  {
   "cell_type": "code",
   "execution_count": 20,
   "id": "e72263c2",
   "metadata": {},
   "outputs": [],
   "source": [
    "vacation_df = vacation_df[(vacation_df.index >= start_date) & (vacation_df.index <= end_date)]\n",
    "holiday_df = holiday_df[(holiday_df.index >= start_date) & (holiday_df.index <= end_date)]\n",
    "covid_string = covid_string[(covid_string.index >= start_date) & (covid_string.index <= end_date)]"
   ]
  },
  {
   "cell_type": "code",
   "execution_count": 21,
   "id": "87f71830",
   "metadata": {},
   "outputs": [],
   "source": [
    "cmsa_df_filled_merged = pd.concat([cmsa_df_filled, vacation_df, holiday_df, covid_string], axis=1)"
   ]
  },
  {
   "cell_type": "code",
   "execution_count": 22,
   "id": "3f6002f7",
   "metadata": {},
   "outputs": [],
   "source": [
    "cmsa_df_fill_zero_merged = pd.concat([cmsa_df_zero, vacation_df, holiday_df, covid_string], axis=1)"
   ]
  },
  {
   "cell_type": "code",
   "execution_count": 23,
   "id": "6ceb4e5b",
   "metadata": {},
   "outputs": [
    {
     "data": {
      "text/html": [
       "<div>\n",
       "<style scoped>\n",
       "    .dataframe tbody tr th:only-of-type {\n",
       "        vertical-align: middle;\n",
       "    }\n",
       "\n",
       "    .dataframe tbody tr th {\n",
       "        vertical-align: top;\n",
       "    }\n",
       "\n",
       "    .dataframe thead th {\n",
       "        text-align: right;\n",
       "    }\n",
       "</style>\n",
       "<table border=\"1\" class=\"dataframe\">\n",
       "  <thead>\n",
       "    <tr style=\"text-align: right;\">\n",
       "      <th></th>\n",
       "      <th>GAWW-11</th>\n",
       "      <th>GAWW-12</th>\n",
       "      <th>GAWW-14</th>\n",
       "      <th>vacation_dummy</th>\n",
       "      <th>holiday_dummy</th>\n",
       "      <th>stringency_index</th>\n",
       "    </tr>\n",
       "    <tr>\n",
       "      <th>datetime</th>\n",
       "      <th></th>\n",
       "      <th></th>\n",
       "      <th></th>\n",
       "      <th></th>\n",
       "      <th></th>\n",
       "      <th></th>\n",
       "    </tr>\n",
       "  </thead>\n",
       "  <tbody>\n",
       "    <tr>\n",
       "      <th>2020-09-01 00:00:00</th>\n",
       "      <td>104.0</td>\n",
       "      <td>113.0</td>\n",
       "      <td>32.0</td>\n",
       "      <td>0</td>\n",
       "      <td>0</td>\n",
       "      <td>50.93</td>\n",
       "    </tr>\n",
       "    <tr>\n",
       "      <th>2020-09-01 00:15:00</th>\n",
       "      <td>73.0</td>\n",
       "      <td>109.0</td>\n",
       "      <td>30.0</td>\n",
       "      <td>0</td>\n",
       "      <td>0</td>\n",
       "      <td>50.93</td>\n",
       "    </tr>\n",
       "    <tr>\n",
       "      <th>2020-09-01 00:30:00</th>\n",
       "      <td>84.0</td>\n",
       "      <td>88.0</td>\n",
       "      <td>27.0</td>\n",
       "      <td>0</td>\n",
       "      <td>0</td>\n",
       "      <td>50.93</td>\n",
       "    </tr>\n",
       "    <tr>\n",
       "      <th>2020-09-01 00:45:00</th>\n",
       "      <td>95.0</td>\n",
       "      <td>99.0</td>\n",
       "      <td>26.0</td>\n",
       "      <td>0</td>\n",
       "      <td>0</td>\n",
       "      <td>50.93</td>\n",
       "    </tr>\n",
       "    <tr>\n",
       "      <th>2020-09-01 01:00:00</th>\n",
       "      <td>63.0</td>\n",
       "      <td>84.0</td>\n",
       "      <td>43.0</td>\n",
       "      <td>0</td>\n",
       "      <td>0</td>\n",
       "      <td>50.93</td>\n",
       "    </tr>\n",
       "    <tr>\n",
       "      <th>...</th>\n",
       "      <td>...</td>\n",
       "      <td>...</td>\n",
       "      <td>...</td>\n",
       "      <td>...</td>\n",
       "      <td>...</td>\n",
       "      <td>...</td>\n",
       "    </tr>\n",
       "    <tr>\n",
       "      <th>2022-01-01 22:45:00</th>\n",
       "      <td>48.0</td>\n",
       "      <td>22.0</td>\n",
       "      <td>21.0</td>\n",
       "      <td>1</td>\n",
       "      <td>1</td>\n",
       "      <td>63.89</td>\n",
       "    </tr>\n",
       "    <tr>\n",
       "      <th>2022-01-01 23:00:00</th>\n",
       "      <td>28.0</td>\n",
       "      <td>16.0</td>\n",
       "      <td>21.0</td>\n",
       "      <td>1</td>\n",
       "      <td>1</td>\n",
       "      <td>63.89</td>\n",
       "    </tr>\n",
       "    <tr>\n",
       "      <th>2022-01-01 23:15:00</th>\n",
       "      <td>27.0</td>\n",
       "      <td>26.0</td>\n",
       "      <td>21.0</td>\n",
       "      <td>1</td>\n",
       "      <td>1</td>\n",
       "      <td>63.89</td>\n",
       "    </tr>\n",
       "    <tr>\n",
       "      <th>2022-01-01 23:30:00</th>\n",
       "      <td>29.0</td>\n",
       "      <td>19.0</td>\n",
       "      <td>15.0</td>\n",
       "      <td>1</td>\n",
       "      <td>1</td>\n",
       "      <td>63.89</td>\n",
       "    </tr>\n",
       "    <tr>\n",
       "      <th>2022-01-01 23:45:00</th>\n",
       "      <td>25.0</td>\n",
       "      <td>14.0</td>\n",
       "      <td>19.0</td>\n",
       "      <td>1</td>\n",
       "      <td>1</td>\n",
       "      <td>63.89</td>\n",
       "    </tr>\n",
       "  </tbody>\n",
       "</table>\n",
       "<p>46848 rows × 6 columns</p>\n",
       "</div>"
      ],
      "text/plain": [
       "                     GAWW-11  GAWW-12  GAWW-14  vacation_dummy  holiday_dummy  \\\n",
       "datetime                                                                        \n",
       "2020-09-01 00:00:00    104.0    113.0     32.0               0              0   \n",
       "2020-09-01 00:15:00     73.0    109.0     30.0               0              0   \n",
       "2020-09-01 00:30:00     84.0     88.0     27.0               0              0   \n",
       "2020-09-01 00:45:00     95.0     99.0     26.0               0              0   \n",
       "2020-09-01 01:00:00     63.0     84.0     43.0               0              0   \n",
       "...                      ...      ...      ...             ...            ...   \n",
       "2022-01-01 22:45:00     48.0     22.0     21.0               1              1   \n",
       "2022-01-01 23:00:00     28.0     16.0     21.0               1              1   \n",
       "2022-01-01 23:15:00     27.0     26.0     21.0               1              1   \n",
       "2022-01-01 23:30:00     29.0     19.0     15.0               1              1   \n",
       "2022-01-01 23:45:00     25.0     14.0     19.0               1              1   \n",
       "\n",
       "                     stringency_index  \n",
       "datetime                               \n",
       "2020-09-01 00:00:00             50.93  \n",
       "2020-09-01 00:15:00             50.93  \n",
       "2020-09-01 00:30:00             50.93  \n",
       "2020-09-01 00:45:00             50.93  \n",
       "2020-09-01 01:00:00             50.93  \n",
       "...                               ...  \n",
       "2022-01-01 22:45:00             63.89  \n",
       "2022-01-01 23:00:00             63.89  \n",
       "2022-01-01 23:15:00             63.89  \n",
       "2022-01-01 23:30:00             63.89  \n",
       "2022-01-01 23:45:00             63.89  \n",
       "\n",
       "[46848 rows x 6 columns]"
      ]
     },
     "execution_count": 23,
     "metadata": {},
     "output_type": "execute_result"
    }
   ],
   "source": [
    "cmsa_df_filled_merged"
   ]
  },
  {
   "cell_type": "code",
   "execution_count": 24,
   "id": "51e2e5ad",
   "metadata": {},
   "outputs": [
    {
     "data": {
      "text/html": [
       "<div>\n",
       "<style scoped>\n",
       "    .dataframe tbody tr th:only-of-type {\n",
       "        vertical-align: middle;\n",
       "    }\n",
       "\n",
       "    .dataframe tbody tr th {\n",
       "        vertical-align: top;\n",
       "    }\n",
       "\n",
       "    .dataframe thead th {\n",
       "        text-align: right;\n",
       "    }\n",
       "</style>\n",
       "<table border=\"1\" class=\"dataframe\">\n",
       "  <thead>\n",
       "    <tr style=\"text-align: right;\">\n",
       "      <th></th>\n",
       "      <th>GAWW-11</th>\n",
       "      <th>GAWW-12</th>\n",
       "      <th>GAWW-14</th>\n",
       "      <th>vacation_dummy</th>\n",
       "      <th>holiday_dummy</th>\n",
       "      <th>stringency_index</th>\n",
       "    </tr>\n",
       "    <tr>\n",
       "      <th>datetime</th>\n",
       "      <th></th>\n",
       "      <th></th>\n",
       "      <th></th>\n",
       "      <th></th>\n",
       "      <th></th>\n",
       "      <th></th>\n",
       "    </tr>\n",
       "  </thead>\n",
       "  <tbody>\n",
       "    <tr>\n",
       "      <th>2020-09-01 00:00:00</th>\n",
       "      <td>104.0</td>\n",
       "      <td>113.0</td>\n",
       "      <td>32.0</td>\n",
       "      <td>0</td>\n",
       "      <td>0</td>\n",
       "      <td>50.93</td>\n",
       "    </tr>\n",
       "    <tr>\n",
       "      <th>2020-09-01 00:15:00</th>\n",
       "      <td>73.0</td>\n",
       "      <td>109.0</td>\n",
       "      <td>30.0</td>\n",
       "      <td>0</td>\n",
       "      <td>0</td>\n",
       "      <td>50.93</td>\n",
       "    </tr>\n",
       "    <tr>\n",
       "      <th>2020-09-01 00:30:00</th>\n",
       "      <td>84.0</td>\n",
       "      <td>88.0</td>\n",
       "      <td>27.0</td>\n",
       "      <td>0</td>\n",
       "      <td>0</td>\n",
       "      <td>50.93</td>\n",
       "    </tr>\n",
       "    <tr>\n",
       "      <th>2020-09-01 00:45:00</th>\n",
       "      <td>95.0</td>\n",
       "      <td>99.0</td>\n",
       "      <td>26.0</td>\n",
       "      <td>0</td>\n",
       "      <td>0</td>\n",
       "      <td>50.93</td>\n",
       "    </tr>\n",
       "    <tr>\n",
       "      <th>2020-09-01 01:00:00</th>\n",
       "      <td>63.0</td>\n",
       "      <td>84.0</td>\n",
       "      <td>43.0</td>\n",
       "      <td>0</td>\n",
       "      <td>0</td>\n",
       "      <td>50.93</td>\n",
       "    </tr>\n",
       "    <tr>\n",
       "      <th>...</th>\n",
       "      <td>...</td>\n",
       "      <td>...</td>\n",
       "      <td>...</td>\n",
       "      <td>...</td>\n",
       "      <td>...</td>\n",
       "      <td>...</td>\n",
       "    </tr>\n",
       "    <tr>\n",
       "      <th>2022-01-01 22:45:00</th>\n",
       "      <td>48.0</td>\n",
       "      <td>22.0</td>\n",
       "      <td>21.0</td>\n",
       "      <td>1</td>\n",
       "      <td>1</td>\n",
       "      <td>63.89</td>\n",
       "    </tr>\n",
       "    <tr>\n",
       "      <th>2022-01-01 23:00:00</th>\n",
       "      <td>28.0</td>\n",
       "      <td>16.0</td>\n",
       "      <td>21.0</td>\n",
       "      <td>1</td>\n",
       "      <td>1</td>\n",
       "      <td>63.89</td>\n",
       "    </tr>\n",
       "    <tr>\n",
       "      <th>2022-01-01 23:15:00</th>\n",
       "      <td>27.0</td>\n",
       "      <td>26.0</td>\n",
       "      <td>21.0</td>\n",
       "      <td>1</td>\n",
       "      <td>1</td>\n",
       "      <td>63.89</td>\n",
       "    </tr>\n",
       "    <tr>\n",
       "      <th>2022-01-01 23:30:00</th>\n",
       "      <td>29.0</td>\n",
       "      <td>19.0</td>\n",
       "      <td>15.0</td>\n",
       "      <td>1</td>\n",
       "      <td>1</td>\n",
       "      <td>63.89</td>\n",
       "    </tr>\n",
       "    <tr>\n",
       "      <th>2022-01-01 23:45:00</th>\n",
       "      <td>25.0</td>\n",
       "      <td>14.0</td>\n",
       "      <td>19.0</td>\n",
       "      <td>1</td>\n",
       "      <td>1</td>\n",
       "      <td>63.89</td>\n",
       "    </tr>\n",
       "  </tbody>\n",
       "</table>\n",
       "<p>46848 rows × 6 columns</p>\n",
       "</div>"
      ],
      "text/plain": [
       "                     GAWW-11  GAWW-12  GAWW-14  vacation_dummy  holiday_dummy  \\\n",
       "datetime                                                                        \n",
       "2020-09-01 00:00:00    104.0    113.0     32.0               0              0   \n",
       "2020-09-01 00:15:00     73.0    109.0     30.0               0              0   \n",
       "2020-09-01 00:30:00     84.0     88.0     27.0               0              0   \n",
       "2020-09-01 00:45:00     95.0     99.0     26.0               0              0   \n",
       "2020-09-01 01:00:00     63.0     84.0     43.0               0              0   \n",
       "...                      ...      ...      ...             ...            ...   \n",
       "2022-01-01 22:45:00     48.0     22.0     21.0               1              1   \n",
       "2022-01-01 23:00:00     28.0     16.0     21.0               1              1   \n",
       "2022-01-01 23:15:00     27.0     26.0     21.0               1              1   \n",
       "2022-01-01 23:30:00     29.0     19.0     15.0               1              1   \n",
       "2022-01-01 23:45:00     25.0     14.0     19.0               1              1   \n",
       "\n",
       "                     stringency_index  \n",
       "datetime                               \n",
       "2020-09-01 00:00:00             50.93  \n",
       "2020-09-01 00:15:00             50.93  \n",
       "2020-09-01 00:30:00             50.93  \n",
       "2020-09-01 00:45:00             50.93  \n",
       "2020-09-01 01:00:00             50.93  \n",
       "...                               ...  \n",
       "2022-01-01 22:45:00             63.89  \n",
       "2022-01-01 23:00:00             63.89  \n",
       "2022-01-01 23:15:00             63.89  \n",
       "2022-01-01 23:30:00             63.89  \n",
       "2022-01-01 23:45:00             63.89  \n",
       "\n",
       "[46848 rows x 6 columns]"
      ]
     },
     "execution_count": 24,
     "metadata": {},
     "output_type": "execute_result"
    }
   ],
   "source": [
    "cmsa_df_fill_zero_merged"
   ]
  },
  {
   "cell_type": "code",
   "execution_count": 25,
   "id": "b4520924",
   "metadata": {},
   "outputs": [],
   "source": [
    "cmsa_df_filled_merged.to_csv('../data/cmsa_df_filled_merged.csv')"
   ]
  },
  {
   "cell_type": "code",
   "execution_count": 26,
   "id": "06925456",
   "metadata": {},
   "outputs": [],
   "source": [
    "cmsa_df_fill_zero_merged.to_csv('../data/cmsa_df_fill_zero_merged.csv')"
   ]
  },
  {
   "cell_type": "markdown",
   "id": "f60921a8",
   "metadata": {},
   "source": [
    "### Merge w. GVB"
   ]
  },
  {
   "cell_type": "code",
   "execution_count": 102,
   "id": "8a833bb4",
   "metadata": {},
   "outputs": [],
   "source": [
    "gvb_dam = pd.read_csv(\"../data/gvb/gvb_dam.csv\", index_col=\"Unnamed: 0\")\n",
    "gvb_nieuwmarkt = pd.read_csv(\"../data/gvb/gvb_nieuwmarkt.csv\", index_col=\"Unnamed: 0\")\n",
    "gvb_dam.rename(columns={'checkin':'checkin_dam', 'checkout':'checkout_dam'}, inplace=True)\n",
    "gvb_dam.drop(['stop_name', 'date', 'hour'], axis=1, inplace=True)\n",
    "gvb_nieuwmarkt.rename(columns={'checkin':'checkin_nieuwmarkt', 'checkout':'checkout_nieuwmarkt'}, inplace=True)\n",
    "gvb_nieuwmarkt.drop(['stop_name', 'date', 'hour'], axis=1, inplace=True)"
   ]
  },
  {
   "cell_type": "code",
   "execution_count": 103,
   "id": "4d04fdd9",
   "metadata": {},
   "outputs": [],
   "source": [
    "cmsa_merged = pd.read_csv(\"../data/cmsa_df_filled_merged.csv\")\n",
    "cmsa_fill_zero_merged = pd.read_csv(\"../data/cmsa_df_fill_zero_merged.csv\")"
   ]
  },
  {
   "cell_type": "code",
   "execution_count": 104,
   "id": "fb566f61",
   "metadata": {},
   "outputs": [
    {
     "data": {
      "text/plain": [
       "(46848, 7)"
      ]
     },
     "execution_count": 104,
     "metadata": {},
     "output_type": "execute_result"
    }
   ],
   "source": [
    "cmsa_fill_zero_merged.shape"
   ]
  },
  {
   "cell_type": "code",
   "execution_count": 106,
   "id": "36ec3bca",
   "metadata": {},
   "outputs": [],
   "source": [
    "cmsa_merged = cmsa_merged.set_index('datetime')\n",
    "cmsa_fill_zero_merged = cmsa_fill_zero_merged.set_index('datetime')"
   ]
  },
  {
   "cell_type": "code",
   "execution_count": 107,
   "id": "21e9c5ee",
   "metadata": {},
   "outputs": [],
   "source": [
    "gvb_dam = gvb_dam.set_index('datetime')\n",
    "gvb_nieuwmarkt = gvb_nieuwmarkt.set_index('datetime')"
   ]
  },
  {
   "cell_type": "code",
   "execution_count": 108,
   "id": "a022f004",
   "metadata": {},
   "outputs": [],
   "source": [
    "cmsa_merged.index = pd.DatetimeIndex(cmsa_merged.index)\n",
    "cmsa_fill_zero_merged.index = pd.DatetimeIndex(cmsa_fill_zero_merged.index)\n",
    "gvb_dam.index = pd.DatetimeIndex(gvb_dam.index)\n",
    "gvb_nieuwmarkt.index = pd.DatetimeIndex(gvb_nieuwmarkt.index)"
   ]
  },
  {
   "cell_type": "code",
   "execution_count": 109,
   "id": "3f2ef8f7",
   "metadata": {},
   "outputs": [
    {
     "data": {
      "text/html": [
       "<div>\n",
       "<style scoped>\n",
       "    .dataframe tbody tr th:only-of-type {\n",
       "        vertical-align: middle;\n",
       "    }\n",
       "\n",
       "    .dataframe tbody tr th {\n",
       "        vertical-align: top;\n",
       "    }\n",
       "\n",
       "    .dataframe thead th {\n",
       "        text-align: right;\n",
       "    }\n",
       "</style>\n",
       "<table border=\"1\" class=\"dataframe\">\n",
       "  <thead>\n",
       "    <tr style=\"text-align: right;\">\n",
       "      <th></th>\n",
       "      <th>GAWW-11</th>\n",
       "      <th>GAWW-12</th>\n",
       "      <th>GAWW-14</th>\n",
       "      <th>vacation_dummy</th>\n",
       "      <th>holiday_dummy</th>\n",
       "      <th>stringency_index</th>\n",
       "    </tr>\n",
       "    <tr>\n",
       "      <th>datetime</th>\n",
       "      <th></th>\n",
       "      <th></th>\n",
       "      <th></th>\n",
       "      <th></th>\n",
       "      <th></th>\n",
       "      <th></th>\n",
       "    </tr>\n",
       "  </thead>\n",
       "  <tbody>\n",
       "    <tr>\n",
       "      <th>2020-09-01 00:00:00</th>\n",
       "      <td>104.0</td>\n",
       "      <td>113.0</td>\n",
       "      <td>32.0</td>\n",
       "      <td>0</td>\n",
       "      <td>0</td>\n",
       "      <td>50.93</td>\n",
       "    </tr>\n",
       "    <tr>\n",
       "      <th>2020-09-01 00:15:00</th>\n",
       "      <td>73.0</td>\n",
       "      <td>109.0</td>\n",
       "      <td>30.0</td>\n",
       "      <td>0</td>\n",
       "      <td>0</td>\n",
       "      <td>50.93</td>\n",
       "    </tr>\n",
       "    <tr>\n",
       "      <th>2020-09-01 00:30:00</th>\n",
       "      <td>84.0</td>\n",
       "      <td>88.0</td>\n",
       "      <td>27.0</td>\n",
       "      <td>0</td>\n",
       "      <td>0</td>\n",
       "      <td>50.93</td>\n",
       "    </tr>\n",
       "    <tr>\n",
       "      <th>2020-09-01 00:45:00</th>\n",
       "      <td>95.0</td>\n",
       "      <td>99.0</td>\n",
       "      <td>26.0</td>\n",
       "      <td>0</td>\n",
       "      <td>0</td>\n",
       "      <td>50.93</td>\n",
       "    </tr>\n",
       "    <tr>\n",
       "      <th>2020-09-01 01:00:00</th>\n",
       "      <td>63.0</td>\n",
       "      <td>84.0</td>\n",
       "      <td>43.0</td>\n",
       "      <td>0</td>\n",
       "      <td>0</td>\n",
       "      <td>50.93</td>\n",
       "    </tr>\n",
       "  </tbody>\n",
       "</table>\n",
       "</div>"
      ],
      "text/plain": [
       "                     GAWW-11  GAWW-12  GAWW-14  vacation_dummy  holiday_dummy  \\\n",
       "datetime                                                                        \n",
       "2020-09-01 00:00:00    104.0    113.0     32.0               0              0   \n",
       "2020-09-01 00:15:00     73.0    109.0     30.0               0              0   \n",
       "2020-09-01 00:30:00     84.0     88.0     27.0               0              0   \n",
       "2020-09-01 00:45:00     95.0     99.0     26.0               0              0   \n",
       "2020-09-01 01:00:00     63.0     84.0     43.0               0              0   \n",
       "\n",
       "                     stringency_index  \n",
       "datetime                               \n",
       "2020-09-01 00:00:00             50.93  \n",
       "2020-09-01 00:15:00             50.93  \n",
       "2020-09-01 00:30:00             50.93  \n",
       "2020-09-01 00:45:00             50.93  \n",
       "2020-09-01 01:00:00             50.93  "
      ]
     },
     "execution_count": 109,
     "metadata": {},
     "output_type": "execute_result"
    }
   ],
   "source": [
    "cmsa_merged.head()"
   ]
  },
  {
   "cell_type": "code",
   "execution_count": 110,
   "id": "60836fee",
   "metadata": {},
   "outputs": [
    {
     "data": {
      "text/html": [
       "<div>\n",
       "<style scoped>\n",
       "    .dataframe tbody tr th:only-of-type {\n",
       "        vertical-align: middle;\n",
       "    }\n",
       "\n",
       "    .dataframe tbody tr th {\n",
       "        vertical-align: top;\n",
       "    }\n",
       "\n",
       "    .dataframe thead th {\n",
       "        text-align: right;\n",
       "    }\n",
       "</style>\n",
       "<table border=\"1\" class=\"dataframe\">\n",
       "  <thead>\n",
       "    <tr style=\"text-align: right;\">\n",
       "      <th></th>\n",
       "      <th>checkin_dam</th>\n",
       "      <th>checkout_dam</th>\n",
       "    </tr>\n",
       "    <tr>\n",
       "      <th>datetime</th>\n",
       "      <th></th>\n",
       "      <th></th>\n",
       "    </tr>\n",
       "  </thead>\n",
       "  <tbody>\n",
       "    <tr>\n",
       "      <th>2020-09-01 00:00:00</th>\n",
       "      <td>48.0</td>\n",
       "      <td>NaN</td>\n",
       "    </tr>\n",
       "    <tr>\n",
       "      <th>2020-09-01 01:00:00</th>\n",
       "      <td>12.0</td>\n",
       "      <td>NaN</td>\n",
       "    </tr>\n",
       "    <tr>\n",
       "      <th>2020-09-01 02:00:00</th>\n",
       "      <td>23.0</td>\n",
       "      <td>NaN</td>\n",
       "    </tr>\n",
       "    <tr>\n",
       "      <th>2020-09-01 06:00:00</th>\n",
       "      <td>NaN</td>\n",
       "      <td>32.0</td>\n",
       "    </tr>\n",
       "    <tr>\n",
       "      <th>2020-09-01 07:00:00</th>\n",
       "      <td>NaN</td>\n",
       "      <td>61.0</td>\n",
       "    </tr>\n",
       "  </tbody>\n",
       "</table>\n",
       "</div>"
      ],
      "text/plain": [
       "                     checkin_dam  checkout_dam\n",
       "datetime                                      \n",
       "2020-09-01 00:00:00         48.0           NaN\n",
       "2020-09-01 01:00:00         12.0           NaN\n",
       "2020-09-01 02:00:00         23.0           NaN\n",
       "2020-09-01 06:00:00          NaN          32.0\n",
       "2020-09-01 07:00:00          NaN          61.0"
      ]
     },
     "execution_count": 110,
     "metadata": {},
     "output_type": "execute_result"
    }
   ],
   "source": [
    "gvb_dam.head()"
   ]
  },
  {
   "cell_type": "markdown",
   "id": "7cc9cd7b",
   "metadata": {},
   "source": [
    "#### Merge and fill every null by 0"
   ]
  },
  {
   "cell_type": "code",
   "execution_count": 111,
   "id": "9fc61b59",
   "metadata": {},
   "outputs": [],
   "source": [
    "gvb_dam_every_15min = gvb_dam.resample('15min').ffill(limit=4)"
   ]
  },
  {
   "cell_type": "code",
   "execution_count": 112,
   "id": "2cc9e979",
   "metadata": {},
   "outputs": [],
   "source": [
    "gvb_nieuwmarkt_every_15min = gvb_nieuwmarkt.resample('15min').ffill(limit=4)"
   ]
  },
  {
   "cell_type": "code",
   "execution_count": 113,
   "id": "9175251c",
   "metadata": {},
   "outputs": [],
   "source": [
    "cmsa_fill_zero_merged_v2 = pd.concat([cmsa_fill_zero_merged, gvb_dam_every_15min, gvb_nieuwmarkt_every_15min], axis=1)"
   ]
  },
  {
   "cell_type": "code",
   "execution_count": null,
   "id": "0e1a18a6",
   "metadata": {},
   "outputs": [],
   "source": [
    "cmsa_fill_zero_merged_v2.head()"
   ]
  },
  {
   "cell_type": "code",
   "execution_count": 115,
   "id": "000c1b62",
   "metadata": {},
   "outputs": [],
   "source": [
    "cmsa_fill_zero_merged_v2.fillna(0, inplace=True)"
   ]
  },
  {
   "cell_type": "code",
   "execution_count": 116,
   "id": "d2f79913",
   "metadata": {},
   "outputs": [
    {
     "data": {
      "text/html": [
       "<div>\n",
       "<style scoped>\n",
       "    .dataframe tbody tr th:only-of-type {\n",
       "        vertical-align: middle;\n",
       "    }\n",
       "\n",
       "    .dataframe tbody tr th {\n",
       "        vertical-align: top;\n",
       "    }\n",
       "\n",
       "    .dataframe thead th {\n",
       "        text-align: right;\n",
       "    }\n",
       "</style>\n",
       "<table border=\"1\" class=\"dataframe\">\n",
       "  <thead>\n",
       "    <tr style=\"text-align: right;\">\n",
       "      <th></th>\n",
       "      <th>GAWW-11</th>\n",
       "      <th>GAWW-12</th>\n",
       "      <th>GAWW-14</th>\n",
       "      <th>vacation_dummy</th>\n",
       "      <th>holiday_dummy</th>\n",
       "      <th>stringency_index</th>\n",
       "      <th>checkin_dam</th>\n",
       "      <th>checkout_dam</th>\n",
       "      <th>checkin_nieuwmarkt</th>\n",
       "      <th>checkout_nieuwmarkt</th>\n",
       "    </tr>\n",
       "    <tr>\n",
       "      <th>datetime</th>\n",
       "      <th></th>\n",
       "      <th></th>\n",
       "      <th></th>\n",
       "      <th></th>\n",
       "      <th></th>\n",
       "      <th></th>\n",
       "      <th></th>\n",
       "      <th></th>\n",
       "      <th></th>\n",
       "      <th></th>\n",
       "    </tr>\n",
       "  </thead>\n",
       "  <tbody>\n",
       "    <tr>\n",
       "      <th>2020-09-01 00:00:00</th>\n",
       "      <td>104.0</td>\n",
       "      <td>113.0</td>\n",
       "      <td>32.0</td>\n",
       "      <td>0</td>\n",
       "      <td>0</td>\n",
       "      <td>50.93</td>\n",
       "      <td>48.0</td>\n",
       "      <td>0.0</td>\n",
       "      <td>58.0</td>\n",
       "      <td>17.0</td>\n",
       "    </tr>\n",
       "    <tr>\n",
       "      <th>2020-09-01 00:15:00</th>\n",
       "      <td>73.0</td>\n",
       "      <td>109.0</td>\n",
       "      <td>30.0</td>\n",
       "      <td>0</td>\n",
       "      <td>0</td>\n",
       "      <td>50.93</td>\n",
       "      <td>48.0</td>\n",
       "      <td>0.0</td>\n",
       "      <td>58.0</td>\n",
       "      <td>17.0</td>\n",
       "    </tr>\n",
       "    <tr>\n",
       "      <th>2020-09-01 00:30:00</th>\n",
       "      <td>84.0</td>\n",
       "      <td>88.0</td>\n",
       "      <td>27.0</td>\n",
       "      <td>0</td>\n",
       "      <td>0</td>\n",
       "      <td>50.93</td>\n",
       "      <td>48.0</td>\n",
       "      <td>0.0</td>\n",
       "      <td>58.0</td>\n",
       "      <td>17.0</td>\n",
       "    </tr>\n",
       "    <tr>\n",
       "      <th>2020-09-01 00:45:00</th>\n",
       "      <td>95.0</td>\n",
       "      <td>99.0</td>\n",
       "      <td>26.0</td>\n",
       "      <td>0</td>\n",
       "      <td>0</td>\n",
       "      <td>50.93</td>\n",
       "      <td>48.0</td>\n",
       "      <td>0.0</td>\n",
       "      <td>58.0</td>\n",
       "      <td>17.0</td>\n",
       "    </tr>\n",
       "    <tr>\n",
       "      <th>2020-09-01 01:00:00</th>\n",
       "      <td>63.0</td>\n",
       "      <td>84.0</td>\n",
       "      <td>43.0</td>\n",
       "      <td>0</td>\n",
       "      <td>0</td>\n",
       "      <td>50.93</td>\n",
       "      <td>12.0</td>\n",
       "      <td>0.0</td>\n",
       "      <td>58.0</td>\n",
       "      <td>17.0</td>\n",
       "    </tr>\n",
       "  </tbody>\n",
       "</table>\n",
       "</div>"
      ],
      "text/plain": [
       "                     GAWW-11  GAWW-12  GAWW-14  vacation_dummy  holiday_dummy  \\\n",
       "datetime                                                                        \n",
       "2020-09-01 00:00:00    104.0    113.0     32.0               0              0   \n",
       "2020-09-01 00:15:00     73.0    109.0     30.0               0              0   \n",
       "2020-09-01 00:30:00     84.0     88.0     27.0               0              0   \n",
       "2020-09-01 00:45:00     95.0     99.0     26.0               0              0   \n",
       "2020-09-01 01:00:00     63.0     84.0     43.0               0              0   \n",
       "\n",
       "                     stringency_index  checkin_dam  checkout_dam  \\\n",
       "datetime                                                           \n",
       "2020-09-01 00:00:00             50.93         48.0           0.0   \n",
       "2020-09-01 00:15:00             50.93         48.0           0.0   \n",
       "2020-09-01 00:30:00             50.93         48.0           0.0   \n",
       "2020-09-01 00:45:00             50.93         48.0           0.0   \n",
       "2020-09-01 01:00:00             50.93         12.0           0.0   \n",
       "\n",
       "                     checkin_nieuwmarkt  checkout_nieuwmarkt  \n",
       "datetime                                                      \n",
       "2020-09-01 00:00:00                58.0                 17.0  \n",
       "2020-09-01 00:15:00                58.0                 17.0  \n",
       "2020-09-01 00:30:00                58.0                 17.0  \n",
       "2020-09-01 00:45:00                58.0                 17.0  \n",
       "2020-09-01 01:00:00                58.0                 17.0  "
      ]
     },
     "execution_count": 116,
     "metadata": {},
     "output_type": "execute_result"
    }
   ],
   "source": [
    "cmsa_fill_zero_merged_v2.head()"
   ]
  },
  {
   "cell_type": "code",
   "execution_count": 117,
   "id": "59798671",
   "metadata": {},
   "outputs": [
    {
     "data": {
      "text/plain": [
       "(46848, 10)"
      ]
     },
     "execution_count": 117,
     "metadata": {},
     "output_type": "execute_result"
    }
   ],
   "source": [
    "cmsa_fill_zero_merged_v2.shape"
   ]
  },
  {
   "cell_type": "code",
   "execution_count": 118,
   "id": "3eb3b7d1",
   "metadata": {},
   "outputs": [],
   "source": [
    "cmsa_fill_zero_merged_v2.to_csv(\"../data/cmsa_fill_zero_merged_v2.csv\")"
   ]
  },
  {
   "cell_type": "markdown",
   "id": "dce68da4",
   "metadata": {},
   "source": [
    "### Proper data cleaning"
   ]
  },
  {
   "cell_type": "code",
   "execution_count": 119,
   "id": "947dac32",
   "metadata": {},
   "outputs": [],
   "source": [
    "cmsa_merged_v2 = pd.concat([cmsa_merged, gvb_dam_every_15min, gvb_nieuwmarkt_every_15min], axis=1)"
   ]
  },
  {
   "cell_type": "code",
   "execution_count": 120,
   "id": "807f9a0c",
   "metadata": {},
   "outputs": [
    {
     "data": {
      "text/html": [
       "<div>\n",
       "<style scoped>\n",
       "    .dataframe tbody tr th:only-of-type {\n",
       "        vertical-align: middle;\n",
       "    }\n",
       "\n",
       "    .dataframe tbody tr th {\n",
       "        vertical-align: top;\n",
       "    }\n",
       "\n",
       "    .dataframe thead th {\n",
       "        text-align: right;\n",
       "    }\n",
       "</style>\n",
       "<table border=\"1\" class=\"dataframe\">\n",
       "  <thead>\n",
       "    <tr style=\"text-align: right;\">\n",
       "      <th></th>\n",
       "      <th>checkin_dam</th>\n",
       "      <th>checkout_dam</th>\n",
       "    </tr>\n",
       "    <tr>\n",
       "      <th>datetime</th>\n",
       "      <th></th>\n",
       "      <th></th>\n",
       "    </tr>\n",
       "  </thead>\n",
       "  <tbody>\n",
       "    <tr>\n",
       "      <th>2021-12-12 19:00:00</th>\n",
       "      <td>169.0</td>\n",
       "      <td>NaN</td>\n",
       "    </tr>\n",
       "    <tr>\n",
       "      <th>2021-12-12 20:00:00</th>\n",
       "      <td>54.0</td>\n",
       "      <td>NaN</td>\n",
       "    </tr>\n",
       "    <tr>\n",
       "      <th>2021-12-12 21:00:00</th>\n",
       "      <td>54.0</td>\n",
       "      <td>NaN</td>\n",
       "    </tr>\n",
       "    <tr>\n",
       "      <th>2021-12-12 22:00:00</th>\n",
       "      <td>53.0</td>\n",
       "      <td>NaN</td>\n",
       "    </tr>\n",
       "    <tr>\n",
       "      <th>2021-12-12 23:00:00</th>\n",
       "      <td>13.0</td>\n",
       "      <td>NaN</td>\n",
       "    </tr>\n",
       "  </tbody>\n",
       "</table>\n",
       "</div>"
      ],
      "text/plain": [
       "                     checkin_dam  checkout_dam\n",
       "datetime                                      \n",
       "2021-12-12 19:00:00        169.0           NaN\n",
       "2021-12-12 20:00:00         54.0           NaN\n",
       "2021-12-12 21:00:00         54.0           NaN\n",
       "2021-12-12 22:00:00         53.0           NaN\n",
       "2021-12-12 23:00:00         13.0           NaN"
      ]
     },
     "execution_count": 120,
     "metadata": {},
     "output_type": "execute_result"
    }
   ],
   "source": [
    "gvb_dam.tail()"
   ]
  },
  {
   "cell_type": "code",
   "execution_count": 121,
   "id": "c57ffb3b",
   "metadata": {},
   "outputs": [
    {
     "data": {
      "text/html": [
       "<div>\n",
       "<style scoped>\n",
       "    .dataframe tbody tr th:only-of-type {\n",
       "        vertical-align: middle;\n",
       "    }\n",
       "\n",
       "    .dataframe tbody tr th {\n",
       "        vertical-align: top;\n",
       "    }\n",
       "\n",
       "    .dataframe thead th {\n",
       "        text-align: right;\n",
       "    }\n",
       "</style>\n",
       "<table border=\"1\" class=\"dataframe\">\n",
       "  <thead>\n",
       "    <tr style=\"text-align: right;\">\n",
       "      <th></th>\n",
       "      <th>checkin_nieuwmarkt</th>\n",
       "      <th>checkout_nieuwmarkt</th>\n",
       "    </tr>\n",
       "    <tr>\n",
       "      <th>datetime</th>\n",
       "      <th></th>\n",
       "      <th></th>\n",
       "    </tr>\n",
       "  </thead>\n",
       "  <tbody>\n",
       "    <tr>\n",
       "      <th>2021-12-12 19:00:00</th>\n",
       "      <td>105.0</td>\n",
       "      <td>NaN</td>\n",
       "    </tr>\n",
       "    <tr>\n",
       "      <th>2021-12-12 20:00:00</th>\n",
       "      <td>77.0</td>\n",
       "      <td>NaN</td>\n",
       "    </tr>\n",
       "    <tr>\n",
       "      <th>2021-12-12 21:00:00</th>\n",
       "      <td>47.0</td>\n",
       "      <td>NaN</td>\n",
       "    </tr>\n",
       "    <tr>\n",
       "      <th>2021-12-12 22:00:00</th>\n",
       "      <td>40.0</td>\n",
       "      <td>NaN</td>\n",
       "    </tr>\n",
       "    <tr>\n",
       "      <th>2021-12-12 23:00:00</th>\n",
       "      <td>15.0</td>\n",
       "      <td>NaN</td>\n",
       "    </tr>\n",
       "  </tbody>\n",
       "</table>\n",
       "</div>"
      ],
      "text/plain": [
       "                     checkin_nieuwmarkt  checkout_nieuwmarkt\n",
       "datetime                                                    \n",
       "2021-12-12 19:00:00               105.0                  NaN\n",
       "2021-12-12 20:00:00                77.0                  NaN\n",
       "2021-12-12 21:00:00                47.0                  NaN\n",
       "2021-12-12 22:00:00                40.0                  NaN\n",
       "2021-12-12 23:00:00                15.0                  NaN"
      ]
     },
     "execution_count": 121,
     "metadata": {},
     "output_type": "execute_result"
    }
   ],
   "source": [
    "gvb_nieuwmarkt.tail()"
   ]
  },
  {
   "cell_type": "code",
   "execution_count": 122,
   "id": "377b0686",
   "metadata": {},
   "outputs": [],
   "source": [
    "cmsa_merged_v2['time'] = cmsa_merged_v2.index.time"
   ]
  },
  {
   "cell_type": "code",
   "execution_count": 123,
   "id": "4bfadcd9",
   "metadata": {},
   "outputs": [
    {
     "data": {
      "text/html": [
       "<div>\n",
       "<style scoped>\n",
       "    .dataframe tbody tr th:only-of-type {\n",
       "        vertical-align: middle;\n",
       "    }\n",
       "\n",
       "    .dataframe tbody tr th {\n",
       "        vertical-align: top;\n",
       "    }\n",
       "\n",
       "    .dataframe thead th {\n",
       "        text-align: right;\n",
       "    }\n",
       "</style>\n",
       "<table border=\"1\" class=\"dataframe\">\n",
       "  <thead>\n",
       "    <tr style=\"text-align: right;\">\n",
       "      <th></th>\n",
       "      <th>GAWW-11</th>\n",
       "      <th>GAWW-12</th>\n",
       "      <th>GAWW-14</th>\n",
       "      <th>vacation_dummy</th>\n",
       "      <th>holiday_dummy</th>\n",
       "      <th>stringency_index</th>\n",
       "      <th>checkin_dam</th>\n",
       "      <th>checkout_dam</th>\n",
       "      <th>checkin_nieuwmarkt</th>\n",
       "      <th>checkout_nieuwmarkt</th>\n",
       "      <th>time</th>\n",
       "    </tr>\n",
       "    <tr>\n",
       "      <th>datetime</th>\n",
       "      <th></th>\n",
       "      <th></th>\n",
       "      <th></th>\n",
       "      <th></th>\n",
       "      <th></th>\n",
       "      <th></th>\n",
       "      <th></th>\n",
       "      <th></th>\n",
       "      <th></th>\n",
       "      <th></th>\n",
       "      <th></th>\n",
       "    </tr>\n",
       "  </thead>\n",
       "  <tbody>\n",
       "    <tr>\n",
       "      <th>2020-09-01 00:00:00</th>\n",
       "      <td>104.0</td>\n",
       "      <td>113.0</td>\n",
       "      <td>32.0</td>\n",
       "      <td>0</td>\n",
       "      <td>0</td>\n",
       "      <td>50.93</td>\n",
       "      <td>48.0</td>\n",
       "      <td>NaN</td>\n",
       "      <td>58.0</td>\n",
       "      <td>17.0</td>\n",
       "      <td>00:00:00</td>\n",
       "    </tr>\n",
       "    <tr>\n",
       "      <th>2020-09-01 00:15:00</th>\n",
       "      <td>73.0</td>\n",
       "      <td>109.0</td>\n",
       "      <td>30.0</td>\n",
       "      <td>0</td>\n",
       "      <td>0</td>\n",
       "      <td>50.93</td>\n",
       "      <td>48.0</td>\n",
       "      <td>NaN</td>\n",
       "      <td>58.0</td>\n",
       "      <td>17.0</td>\n",
       "      <td>00:15:00</td>\n",
       "    </tr>\n",
       "    <tr>\n",
       "      <th>2020-09-01 00:30:00</th>\n",
       "      <td>84.0</td>\n",
       "      <td>88.0</td>\n",
       "      <td>27.0</td>\n",
       "      <td>0</td>\n",
       "      <td>0</td>\n",
       "      <td>50.93</td>\n",
       "      <td>48.0</td>\n",
       "      <td>NaN</td>\n",
       "      <td>58.0</td>\n",
       "      <td>17.0</td>\n",
       "      <td>00:30:00</td>\n",
       "    </tr>\n",
       "    <tr>\n",
       "      <th>2020-09-01 00:45:00</th>\n",
       "      <td>95.0</td>\n",
       "      <td>99.0</td>\n",
       "      <td>26.0</td>\n",
       "      <td>0</td>\n",
       "      <td>0</td>\n",
       "      <td>50.93</td>\n",
       "      <td>48.0</td>\n",
       "      <td>NaN</td>\n",
       "      <td>58.0</td>\n",
       "      <td>17.0</td>\n",
       "      <td>00:45:00</td>\n",
       "    </tr>\n",
       "    <tr>\n",
       "      <th>2020-09-01 01:00:00</th>\n",
       "      <td>63.0</td>\n",
       "      <td>84.0</td>\n",
       "      <td>43.0</td>\n",
       "      <td>0</td>\n",
       "      <td>0</td>\n",
       "      <td>50.93</td>\n",
       "      <td>12.0</td>\n",
       "      <td>NaN</td>\n",
       "      <td>58.0</td>\n",
       "      <td>17.0</td>\n",
       "      <td>01:00:00</td>\n",
       "    </tr>\n",
       "  </tbody>\n",
       "</table>\n",
       "</div>"
      ],
      "text/plain": [
       "                     GAWW-11  GAWW-12  GAWW-14  vacation_dummy  holiday_dummy  \\\n",
       "datetime                                                                        \n",
       "2020-09-01 00:00:00    104.0    113.0     32.0               0              0   \n",
       "2020-09-01 00:15:00     73.0    109.0     30.0               0              0   \n",
       "2020-09-01 00:30:00     84.0     88.0     27.0               0              0   \n",
       "2020-09-01 00:45:00     95.0     99.0     26.0               0              0   \n",
       "2020-09-01 01:00:00     63.0     84.0     43.0               0              0   \n",
       "\n",
       "                     stringency_index  checkin_dam  checkout_dam  \\\n",
       "datetime                                                           \n",
       "2020-09-01 00:00:00             50.93         48.0           NaN   \n",
       "2020-09-01 00:15:00             50.93         48.0           NaN   \n",
       "2020-09-01 00:30:00             50.93         48.0           NaN   \n",
       "2020-09-01 00:45:00             50.93         48.0           NaN   \n",
       "2020-09-01 01:00:00             50.93         12.0           NaN   \n",
       "\n",
       "                     checkin_nieuwmarkt  checkout_nieuwmarkt      time  \n",
       "datetime                                                                \n",
       "2020-09-01 00:00:00                58.0                 17.0  00:00:00  \n",
       "2020-09-01 00:15:00                58.0                 17.0  00:15:00  \n",
       "2020-09-01 00:30:00                58.0                 17.0  00:30:00  \n",
       "2020-09-01 00:45:00                58.0                 17.0  00:45:00  \n",
       "2020-09-01 01:00:00                58.0                 17.0  01:00:00  "
      ]
     },
     "execution_count": 123,
     "metadata": {},
     "output_type": "execute_result"
    }
   ],
   "source": [
    "cmsa_merged_v2.head()"
   ]
  },
  {
   "cell_type": "code",
   "execution_count": 124,
   "id": "93f96015",
   "metadata": {},
   "outputs": [
    {
     "data": {
      "text/html": [
       "<div>\n",
       "<style scoped>\n",
       "    .dataframe tbody tr th:only-of-type {\n",
       "        vertical-align: middle;\n",
       "    }\n",
       "\n",
       "    .dataframe tbody tr th {\n",
       "        vertical-align: top;\n",
       "    }\n",
       "\n",
       "    .dataframe thead th {\n",
       "        text-align: right;\n",
       "    }\n",
       "</style>\n",
       "<table border=\"1\" class=\"dataframe\">\n",
       "  <thead>\n",
       "    <tr style=\"text-align: right;\">\n",
       "      <th></th>\n",
       "      <th>Total</th>\n",
       "      <th>Percent</th>\n",
       "    </tr>\n",
       "  </thead>\n",
       "  <tbody>\n",
       "    <tr>\n",
       "      <th>checkout_dam</th>\n",
       "      <td>18448</td>\n",
       "      <td>39.38</td>\n",
       "    </tr>\n",
       "    <tr>\n",
       "      <th>checkin_dam</th>\n",
       "      <td>18239</td>\n",
       "      <td>38.93</td>\n",
       "    </tr>\n",
       "    <tr>\n",
       "      <th>checkin_nieuwmarkt</th>\n",
       "      <td>15916</td>\n",
       "      <td>33.97</td>\n",
       "    </tr>\n",
       "    <tr>\n",
       "      <th>checkout_nieuwmarkt</th>\n",
       "      <td>14928</td>\n",
       "      <td>31.86</td>\n",
       "    </tr>\n",
       "  </tbody>\n",
       "</table>\n",
       "</div>"
      ],
      "text/plain": [
       "                     Total  Percent\n",
       "checkout_dam         18448    39.38\n",
       "checkin_dam          18239    38.93\n",
       "checkin_nieuwmarkt   15916    33.97\n",
       "checkout_nieuwmarkt  14928    31.86"
      ]
     },
     "execution_count": 124,
     "metadata": {},
     "output_type": "execute_result"
    }
   ],
   "source": [
    "# total count and percentage of missing values per column\n",
    "def missingValuesInfo(df):\n",
    "    total = df.isnull().sum().sort_values(ascending = False)\n",
    "    percent = round(df.isnull().sum().sort_values(ascending = False)/len(df)*100, 2)\n",
    "    temp = pd.concat([total, percent], axis = 1,keys= ['Total', 'Percent'])\n",
    "    return temp.loc[(temp['Total'] > 0)]\n",
    "\n",
    "missingValuesInfo(cmsa_merged_v2)"
   ]
  },
  {
   "cell_type": "code",
   "execution_count": 125,
   "id": "8824486f",
   "metadata": {},
   "outputs": [],
   "source": [
    "import numpy as np"
   ]
  },
  {
   "cell_type": "code",
   "execution_count": 126,
   "id": "479fef66",
   "metadata": {},
   "outputs": [],
   "source": [
    "# df['Normalized'] = df['Budget'].where(df['Currency']=='$', df['Budget'] * 0.78125)\n",
    "# features['MSZoning'] = features.groupby('MSSubClass')['MSZoning'].transform(lambda x: x.fillna(x.mean()[0]))\n",
    "# df.groupby('Plate')['LogRatio'].transform(lambda s: s.loc[[True if v < s.quantile(q=0.8) and v > s.quantile(q=0.2) else False for v in s]].mean())\n",
    "\n",
    "cmsa_merged_v2['checkout_dam'] = cmsa_merged_v2.groupby('time')['checkout_dam'].transform(lambda x: x.fillna(x.mean()))\n",
    "cmsa_merged_v2['checkin_dam'] = cmsa_merged_v2.groupby('time')['checkin_dam'].transform(lambda x: x.fillna(x.mean()))\n",
    "cmsa_merged_v2['checkin_nieuwmarkt'] = cmsa_merged_v2.groupby('time')['checkin_nieuwmarkt'].transform(lambda x: x.fillna(x.mean()))\n",
    "cmsa_merged_v2['checkout_nieuwmarkt'] = cmsa_merged_v2.groupby('time')['checkout_nieuwmarkt'].transform(lambda x: x.fillna(x.mean()))"
   ]
  },
  {
   "cell_type": "code",
   "execution_count": 127,
   "id": "e010538f",
   "metadata": {},
   "outputs": [
    {
     "data": {
      "text/html": [
       "<div>\n",
       "<style scoped>\n",
       "    .dataframe tbody tr th:only-of-type {\n",
       "        vertical-align: middle;\n",
       "    }\n",
       "\n",
       "    .dataframe tbody tr th {\n",
       "        vertical-align: top;\n",
       "    }\n",
       "\n",
       "    .dataframe thead th {\n",
       "        text-align: right;\n",
       "    }\n",
       "</style>\n",
       "<table border=\"1\" class=\"dataframe\">\n",
       "  <thead>\n",
       "    <tr style=\"text-align: right;\">\n",
       "      <th></th>\n",
       "      <th>Total</th>\n",
       "      <th>Percent</th>\n",
       "    </tr>\n",
       "  </thead>\n",
       "  <tbody>\n",
       "    <tr>\n",
       "      <th>checkin_nieuwmarkt</th>\n",
       "      <td>9272</td>\n",
       "      <td>19.79</td>\n",
       "    </tr>\n",
       "    <tr>\n",
       "      <th>checkout_nieuwmarkt</th>\n",
       "      <td>9272</td>\n",
       "      <td>19.79</td>\n",
       "    </tr>\n",
       "    <tr>\n",
       "      <th>checkout_dam</th>\n",
       "      <td>5856</td>\n",
       "      <td>12.50</td>\n",
       "    </tr>\n",
       "  </tbody>\n",
       "</table>\n",
       "</div>"
      ],
      "text/plain": [
       "                     Total  Percent\n",
       "checkin_nieuwmarkt    9272    19.79\n",
       "checkout_nieuwmarkt   9272    19.79\n",
       "checkout_dam          5856    12.50"
      ]
     },
     "execution_count": 127,
     "metadata": {},
     "output_type": "execute_result"
    }
   ],
   "source": [
    "# total count and percentage of missing values per column\n",
    "def missingValuesInfo(df):\n",
    "    total = df.isnull().sum().sort_values(ascending = False)\n",
    "    percent = round(df.isnull().sum().sort_values(ascending = False)/len(df)*100, 2)\n",
    "    temp = pd.concat([total, percent], axis = 1,keys= ['Total', 'Percent'])\n",
    "    return temp.loc[(temp['Total'] > 0)]\n",
    "\n",
    "missingValuesInfo(cmsa_merged_v2)"
   ]
  },
  {
   "cell_type": "code",
   "execution_count": 128,
   "id": "1f5a33ad",
   "metadata": {},
   "outputs": [],
   "source": [
    "cmsa_merged_v2.fillna(0, inplace=True)"
   ]
  },
  {
   "cell_type": "code",
   "execution_count": 129,
   "id": "65eb39f7",
   "metadata": {},
   "outputs": [
    {
     "data": {
      "text/html": [
       "<div>\n",
       "<style scoped>\n",
       "    .dataframe tbody tr th:only-of-type {\n",
       "        vertical-align: middle;\n",
       "    }\n",
       "\n",
       "    .dataframe tbody tr th {\n",
       "        vertical-align: top;\n",
       "    }\n",
       "\n",
       "    .dataframe thead th {\n",
       "        text-align: right;\n",
       "    }\n",
       "</style>\n",
       "<table border=\"1\" class=\"dataframe\">\n",
       "  <thead>\n",
       "    <tr style=\"text-align: right;\">\n",
       "      <th></th>\n",
       "      <th>Total</th>\n",
       "      <th>Percent</th>\n",
       "    </tr>\n",
       "  </thead>\n",
       "  <tbody>\n",
       "  </tbody>\n",
       "</table>\n",
       "</div>"
      ],
      "text/plain": [
       "Empty DataFrame\n",
       "Columns: [Total, Percent]\n",
       "Index: []"
      ]
     },
     "execution_count": 129,
     "metadata": {},
     "output_type": "execute_result"
    }
   ],
   "source": [
    "# total count and percentage of missing values per column\n",
    "def missingValuesInfo(df):\n",
    "    total = df.isnull().sum().sort_values(ascending = False)\n",
    "    percent = round(df.isnull().sum().sort_values(ascending = False)/len(df)*100, 2)\n",
    "    temp = pd.concat([total, percent], axis = 1,keys= ['Total', 'Percent'])\n",
    "    return temp.loc[(temp['Total'] > 0)]\n",
    "\n",
    "missingValuesInfo(cmsa_merged_v2)"
   ]
  },
  {
   "cell_type": "code",
   "execution_count": 131,
   "id": "60709772",
   "metadata": {},
   "outputs": [],
   "source": [
    "cmsa_merged_v2 = cmsa_merged_v2.round({'checkin_dam': 0, 'checkout_dam': 0, 'checkin_nieuwmarkt': 0, 'checkout_nieuwmarkt': 0})"
   ]
  },
  {
   "cell_type": "code",
   "execution_count": null,
   "id": "43f9932f",
   "metadata": {},
   "outputs": [],
   "source": [
    "cmsa_merged_v2.drop(['time'], axis=1, inplace=True)\n"
   ]
  },
  {
   "cell_type": "code",
   "execution_count": 134,
   "id": "f202261c",
   "metadata": {},
   "outputs": [],
   "source": [
    "cmsa_merged_v2.to_csv(\"../data/cmsa_merged_v2.csv\")"
   ]
  },
  {
   "cell_type": "code",
   "execution_count": 3,
   "id": "3e493dfa",
   "metadata": {},
   "outputs": [],
   "source": [
    "cmsa_gvb = pd.read_csv(\"../data/cmsa_gvb_merged.csv\", index_col='datetime')\n",
    "cmsa_covid_hotel = pd.read_csv(\"../data/cmsa_covid_hotel_merged.csv\", index_col='datetime')"
   ]
  },
  {
   "cell_type": "code",
   "execution_count": 5,
   "id": "75eab6cc",
   "metadata": {},
   "outputs": [
    {
     "data": {
      "text/plain": [
       "Index(['GAWW-11', 'GAWW-12', 'GAWW-14', 'vacation_dummy', 'holiday_dummy',\n",
       "       'stringency_index', 'hotel_gasten', 'hotel_overnachtingen',\n",
       "       'airport_tot_passengers', 'airport_arrived_passengers',\n",
       "       'airport_departed_passengers', 'covid_cases', 'covid_hospital',\n",
       "       'covid_deaths'],\n",
       "      dtype='object')"
      ]
     },
     "execution_count": 5,
     "metadata": {},
     "output_type": "execute_result"
    }
   ],
   "source": [
    "cmsa_covid_hotel.columns"
   ]
  },
  {
   "cell_type": "code",
   "execution_count": 6,
   "id": "03dffefd",
   "metadata": {},
   "outputs": [
    {
     "data": {
      "text/plain": [
       "Index(['GAWW-11', 'GAWW-12', 'GAWW-14', 'vacation_dummy', 'holiday_dummy',\n",
       "       'stringency_index', 'checkin_dam', 'checkout_dam', 'checkin_nieuwmarkt',\n",
       "       'checkout_nieuwmarkt'],\n",
       "      dtype='object')"
      ]
     },
     "execution_count": 6,
     "metadata": {},
     "output_type": "execute_result"
    }
   ],
   "source": [
    "cmsa_gvb.columns"
   ]
  },
  {
   "cell_type": "code",
   "execution_count": 14,
   "id": "7143d753",
   "metadata": {},
   "outputs": [],
   "source": [
    "cmsa_covid_hotel = cmsa_covid_hotel[['hotel_gasten', 'hotel_overnachtingen',\n",
    "       'airport_tot_passengers', 'airport_arrived_passengers',\n",
    "       'airport_departed_passengers', 'covid_cases', 'covid_hospital',\n",
    "       'covid_deaths']]"
   ]
  },
  {
   "cell_type": "code",
   "execution_count": 15,
   "id": "684171e0",
   "metadata": {},
   "outputs": [],
   "source": [
    "cmsa_merged_v2 = pd.concat([cmsa_gvb, cmsa_covid_hotel], axis=1)"
   ]
  },
  {
   "cell_type": "code",
   "execution_count": 16,
   "id": "160d3ec6",
   "metadata": {},
   "outputs": [
    {
     "data": {
      "text/plain": [
       "Index(['GAWW-11', 'GAWW-12', 'GAWW-14', 'vacation_dummy', 'holiday_dummy',\n",
       "       'stringency_index', 'checkin_dam', 'checkout_dam', 'checkin_nieuwmarkt',\n",
       "       'checkout_nieuwmarkt', 'hotel_gasten', 'hotel_overnachtingen',\n",
       "       'airport_tot_passengers', 'airport_arrived_passengers',\n",
       "       'airport_departed_passengers', 'covid_cases', 'covid_hospital',\n",
       "       'covid_deaths'],\n",
       "      dtype='object')"
      ]
     },
     "execution_count": 16,
     "metadata": {},
     "output_type": "execute_result"
    }
   ],
   "source": [
    "cmsa_merged_v2.columns"
   ]
  },
  {
   "cell_type": "code",
   "execution_count": 19,
   "id": "9c3af268",
   "metadata": {},
   "outputs": [],
   "source": [
    "cmsa_merged_v2.to_csv(\"../data/cmsa_combined_without_knmi.csv\")"
   ]
  },
  {
   "cell_type": "code",
   "execution_count": null,
   "id": "aa5505ab",
   "metadata": {},
   "outputs": [],
   "source": []
  }
 ],
 "metadata": {
  "kernelspec": {
   "display_name": "Python 3 (ipykernel)",
   "language": "python",
   "name": "python3"
  },
  "language_info": {
   "codemirror_mode": {
    "name": "ipython",
    "version": 3
   },
   "file_extension": ".py",
   "mimetype": "text/x-python",
   "name": "python",
   "nbconvert_exporter": "python",
   "pygments_lexer": "ipython3",
   "version": "3.9.7"
  }
 },
 "nbformat": 4,
 "nbformat_minor": 5
}
