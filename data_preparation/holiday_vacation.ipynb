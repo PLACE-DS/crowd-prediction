{
 "cells": [
  {
   "cell_type": "code",
   "execution_count": 29,
   "id": "8c345b80",
   "metadata": {},
   "outputs": [],
   "source": [
    "import pandas as pd\n",
    "from datetime import datetime, timedelta, date\n",
    "from workalendar.europe import Netherlands"
   ]
  },
  {
   "cell_type": "markdown",
   "id": "1ffc5e63",
   "metadata": {},
   "source": [
    "## Vacations"
   ]
  },
  {
   "cell_type": "code",
   "execution_count": 30,
   "id": "dee51156",
   "metadata": {},
   "outputs": [],
   "source": [
    "# define vacations\n",
    "kerst_19 = pd.DataFrame(data = {'date': pd.date_range(date(2019, 12, 21), periods = 7*2 + 2, freq='1d')})\n",
    "voorjaar_20 = pd.DataFrame(data = {'date': pd.date_range(date(2020, 2, 15), periods = 9, freq='1d')})\n",
    "mei_20 = pd.DataFrame(data = {'date': pd.date_range(date(2020, 4, 25), periods = 9, freq='1d')})\n",
    "zomer_20 = pd.DataFrame(data = {'date': pd.date_range(date(2020, 7, 4), periods = 7*6 + 2, freq='1d')})\n",
    "herfst_20 = pd.DataFrame(data = {'date': pd.date_range(date(2020, 10, 10), periods = 9, freq='1d')})\n",
    "kerst_20 = pd.DataFrame(data = {'date': pd.date_range(date(2020, 12, 19), periods = 7*2 + 2, freq='1d')})\n",
    "voorjaar_21 = pd.DataFrame(data = {'date': pd.date_range(date(2021, 2, 20), periods = 9, freq='1d')})\n",
    "mei_21 = pd.DataFrame(data = {'date': pd.date_range(date(2021, 5, 1), periods = 9, freq='1d')})\n",
    "zomer_21 = pd.DataFrame(data = {'date': pd.date_range(date(2021, 7, 10), periods = 7*6 + 2, freq='1d')})\n",
    "herfst_21 = pd.DataFrame(data = {'date': pd.date_range(date(2021, 10, 16), periods = 9, freq='1d')})\n",
    "kerst_21 = pd.DataFrame(data = {'date': pd.date_range(date(2021, 12, 25), periods = 7*2 + 2, freq='1d')})"
   ]
  },
  {
   "cell_type": "code",
   "execution_count": 31,
   "id": "9fd00709",
   "metadata": {},
   "outputs": [],
   "source": [
    "vacation_df_raw = kerst_19.append([voorjaar_20, mei_20, zomer_20, herfst_20, kerst_20,\n",
    "                                   voorjaar_21, mei_21, zomer_21, herfst_21, kerst_21])"
   ]
  },
  {
   "cell_type": "code",
   "execution_count": 32,
   "id": "3f696994",
   "metadata": {},
   "outputs": [],
   "source": [
    "def preprocess_vacation_data(df_raw):\n",
    "    \"\"\"\n",
    "    Prepare the raw vacation data for modelling. \n",
    "    \"\"\"\n",
    "    # Create datetime index\n",
    "    df_raw['datetime'] = pd.to_datetime(df_raw['date']).dt.tz_localize(\"Europe/Amsterdam\")\n",
    "    df_raw = df_raw.set_index('datetime')\n",
    "    \n",
    "    # Create dummy variable\n",
    "    df_raw['vacation_dummy'] =  1\n",
    "    df = df_raw.resample('1d').asfreq()\n",
    "    df['vacation_dummy'] = df['vacation_dummy'].fillna(0)\n",
    "    df['vacation_dummy'] = df['vacation_dummy'].astype(int)\n",
    "    \n",
    "    # Select column\n",
    "    df = df[['vacation_dummy']]\n",
    "    \n",
    "    return df"
   ]
  },
  {
   "cell_type": "code",
   "execution_count": 33,
   "id": "3403f09f",
   "metadata": {},
   "outputs": [],
   "source": [
    "vacation_df = preprocess_vacation_data(vacation_df_raw)"
   ]
  },
  {
   "cell_type": "code",
   "execution_count": 40,
   "id": "53044ba3",
   "metadata": {},
   "outputs": [
    {
     "data": {
      "text/html": [
       "<div>\n",
       "<style scoped>\n",
       "    .dataframe tbody tr th:only-of-type {\n",
       "        vertical-align: middle;\n",
       "    }\n",
       "\n",
       "    .dataframe tbody tr th {\n",
       "        vertical-align: top;\n",
       "    }\n",
       "\n",
       "    .dataframe thead th {\n",
       "        text-align: right;\n",
       "    }\n",
       "</style>\n",
       "<table border=\"1\" class=\"dataframe\">\n",
       "  <thead>\n",
       "    <tr style=\"text-align: right;\">\n",
       "      <th></th>\n",
       "      <th>vacation_dummy</th>\n",
       "    </tr>\n",
       "    <tr>\n",
       "      <th>datetime</th>\n",
       "      <th></th>\n",
       "    </tr>\n",
       "  </thead>\n",
       "  <tbody>\n",
       "    <tr>\n",
       "      <th>2019-12-21 00:00:00+01:00</th>\n",
       "      <td>1</td>\n",
       "    </tr>\n",
       "    <tr>\n",
       "      <th>2019-12-22 00:00:00+01:00</th>\n",
       "      <td>1</td>\n",
       "    </tr>\n",
       "    <tr>\n",
       "      <th>2019-12-23 00:00:00+01:00</th>\n",
       "      <td>1</td>\n",
       "    </tr>\n",
       "    <tr>\n",
       "      <th>2019-12-24 00:00:00+01:00</th>\n",
       "      <td>1</td>\n",
       "    </tr>\n",
       "    <tr>\n",
       "      <th>2019-12-25 00:00:00+01:00</th>\n",
       "      <td>1</td>\n",
       "    </tr>\n",
       "    <tr>\n",
       "      <th>...</th>\n",
       "      <td>...</td>\n",
       "    </tr>\n",
       "    <tr>\n",
       "      <th>2022-01-05 00:00:00+01:00</th>\n",
       "      <td>1</td>\n",
       "    </tr>\n",
       "    <tr>\n",
       "      <th>2022-01-06 00:00:00+01:00</th>\n",
       "      <td>1</td>\n",
       "    </tr>\n",
       "    <tr>\n",
       "      <th>2022-01-07 00:00:00+01:00</th>\n",
       "      <td>1</td>\n",
       "    </tr>\n",
       "    <tr>\n",
       "      <th>2022-01-08 00:00:00+01:00</th>\n",
       "      <td>1</td>\n",
       "    </tr>\n",
       "    <tr>\n",
       "      <th>2022-01-09 00:00:00+01:00</th>\n",
       "      <td>1</td>\n",
       "    </tr>\n",
       "  </tbody>\n",
       "</table>\n",
       "<p>751 rows × 1 columns</p>\n",
       "</div>"
      ],
      "text/plain": [
       "                           vacation_dummy\n",
       "datetime                                 \n",
       "2019-12-21 00:00:00+01:00               1\n",
       "2019-12-22 00:00:00+01:00               1\n",
       "2019-12-23 00:00:00+01:00               1\n",
       "2019-12-24 00:00:00+01:00               1\n",
       "2019-12-25 00:00:00+01:00               1\n",
       "...                                   ...\n",
       "2022-01-05 00:00:00+01:00               1\n",
       "2022-01-06 00:00:00+01:00               1\n",
       "2022-01-07 00:00:00+01:00               1\n",
       "2022-01-08 00:00:00+01:00               1\n",
       "2022-01-09 00:00:00+01:00               1\n",
       "\n",
       "[751 rows x 1 columns]"
      ]
     },
     "execution_count": 40,
     "metadata": {},
     "output_type": "execute_result"
    }
   ],
   "source": [
    "vacation_df"
   ]
  },
  {
   "cell_type": "markdown",
   "id": "76424c11",
   "metadata": {},
   "source": [
    "## Holidays"
   ]
  },
  {
   "cell_type": "code",
   "execution_count": 41,
   "id": "19c9ab34",
   "metadata": {},
   "outputs": [],
   "source": [
    "holidays_data_raw = Netherlands().holidays(2020) + Netherlands().holidays(2021) + Netherlands().holidays(2022) "
   ]
  },
  {
   "cell_type": "code",
   "execution_count": 42,
   "id": "77d1d757",
   "metadata": {},
   "outputs": [],
   "source": [
    "def preprocess_holidays_data(holidays):\n",
    "    \"\"\"\n",
    "    Prepare the raw holiday data for modelling. \n",
    "    \"\"\"\n",
    "    # Put in dataframe\n",
    "    holiday_df = pd.DataFrame(holidays).rename(columns = {0: 'date', 1: 'holiday'})\n",
    "    \n",
    "    # Create datetime index\n",
    "    holiday_df['datetime'] = pd.to_datetime(holiday_df['date']).dt.tz_localize(\"Europe/Amsterdam\")\n",
    "    holiday_df = holiday_df.set_index('datetime')\n",
    "    \n",
    "    # Create dummy variable\n",
    "    holiday_df['holiday_dummy'] =  1\n",
    "    holiday_df_d = holiday_df.resample('1d').asfreq()\n",
    "    holiday_df_d['holiday_dummy'] = holiday_df_d['holiday_dummy'].fillna(0)\n",
    "    holiday_df_d['holiday_dummy'] = holiday_df_d['holiday_dummy'].astype(int)\n",
    "    \n",
    "    # Select column\n",
    "    holiday_df_d = holiday_df_d[['holiday_dummy']]\n",
    "    \n",
    "    return holiday_df_d"
   ]
  },
  {
   "cell_type": "code",
   "execution_count": 43,
   "id": "38d25f46",
   "metadata": {},
   "outputs": [],
   "source": [
    "holiday_df = preprocess_holidays_data(holidays_data_raw)"
   ]
  },
  {
   "cell_type": "code",
   "execution_count": 44,
   "id": "518d6e84",
   "metadata": {},
   "outputs": [
    {
     "data": {
      "text/html": [
       "<div>\n",
       "<style scoped>\n",
       "    .dataframe tbody tr th:only-of-type {\n",
       "        vertical-align: middle;\n",
       "    }\n",
       "\n",
       "    .dataframe tbody tr th {\n",
       "        vertical-align: top;\n",
       "    }\n",
       "\n",
       "    .dataframe thead th {\n",
       "        text-align: right;\n",
       "    }\n",
       "</style>\n",
       "<table border=\"1\" class=\"dataframe\">\n",
       "  <thead>\n",
       "    <tr style=\"text-align: right;\">\n",
       "      <th></th>\n",
       "      <th>holiday_dummy</th>\n",
       "    </tr>\n",
       "    <tr>\n",
       "      <th>datetime</th>\n",
       "      <th></th>\n",
       "    </tr>\n",
       "  </thead>\n",
       "  <tbody>\n",
       "    <tr>\n",
       "      <th>2020-01-01 00:00:00+01:00</th>\n",
       "      <td>1</td>\n",
       "    </tr>\n",
       "    <tr>\n",
       "      <th>2020-01-02 00:00:00+01:00</th>\n",
       "      <td>0</td>\n",
       "    </tr>\n",
       "    <tr>\n",
       "      <th>2020-01-03 00:00:00+01:00</th>\n",
       "      <td>0</td>\n",
       "    </tr>\n",
       "    <tr>\n",
       "      <th>2020-01-04 00:00:00+01:00</th>\n",
       "      <td>0</td>\n",
       "    </tr>\n",
       "    <tr>\n",
       "      <th>2020-01-05 00:00:00+01:00</th>\n",
       "      <td>0</td>\n",
       "    </tr>\n",
       "    <tr>\n",
       "      <th>...</th>\n",
       "      <td>...</td>\n",
       "    </tr>\n",
       "    <tr>\n",
       "      <th>2022-12-22 00:00:00+01:00</th>\n",
       "      <td>0</td>\n",
       "    </tr>\n",
       "    <tr>\n",
       "      <th>2022-12-23 00:00:00+01:00</th>\n",
       "      <td>0</td>\n",
       "    </tr>\n",
       "    <tr>\n",
       "      <th>2022-12-24 00:00:00+01:00</th>\n",
       "      <td>0</td>\n",
       "    </tr>\n",
       "    <tr>\n",
       "      <th>2022-12-25 00:00:00+01:00</th>\n",
       "      <td>1</td>\n",
       "    </tr>\n",
       "    <tr>\n",
       "      <th>2022-12-26 00:00:00+01:00</th>\n",
       "      <td>1</td>\n",
       "    </tr>\n",
       "  </tbody>\n",
       "</table>\n",
       "<p>1091 rows × 1 columns</p>\n",
       "</div>"
      ],
      "text/plain": [
       "                           holiday_dummy\n",
       "datetime                                \n",
       "2020-01-01 00:00:00+01:00              1\n",
       "2020-01-02 00:00:00+01:00              0\n",
       "2020-01-03 00:00:00+01:00              0\n",
       "2020-01-04 00:00:00+01:00              0\n",
       "2020-01-05 00:00:00+01:00              0\n",
       "...                                  ...\n",
       "2022-12-22 00:00:00+01:00              0\n",
       "2022-12-23 00:00:00+01:00              0\n",
       "2022-12-24 00:00:00+01:00              0\n",
       "2022-12-25 00:00:00+01:00              1\n",
       "2022-12-26 00:00:00+01:00              1\n",
       "\n",
       "[1091 rows x 1 columns]"
      ]
     },
     "execution_count": 44,
     "metadata": {},
     "output_type": "execute_result"
    }
   ],
   "source": [
    "holiday_df"
   ]
  },
  {
   "cell_type": "code",
   "execution_count": null,
   "id": "f6c02f4a",
   "metadata": {},
   "outputs": [],
   "source": []
  },
  {
   "cell_type": "code",
   "execution_count": 38,
   "id": "f8fd0bbb",
   "metadata": {},
   "outputs": [],
   "source": [
    "vacation_df.to_csv('../data/vacation.csv')"
   ]
  },
  {
   "cell_type": "code",
   "execution_count": 45,
   "id": "05694b0e",
   "metadata": {},
   "outputs": [],
   "source": [
    "holiday_df.to_csv('../data/holiday.csv')"
   ]
  },
  {
   "cell_type": "code",
   "execution_count": null,
   "id": "8b42aed9",
   "metadata": {},
   "outputs": [],
   "source": []
  }
 ],
 "metadata": {
  "kernelspec": {
   "display_name": "Python 3 (ipykernel)",
   "language": "python",
   "name": "python3"
  },
  "language_info": {
   "codemirror_mode": {
    "name": "ipython",
    "version": 3
   },
   "file_extension": ".py",
   "mimetype": "text/x-python",
   "name": "python",
   "nbconvert_exporter": "python",
   "pygments_lexer": "ipython3",
   "version": "3.8.8"
  }
 },
 "nbformat": 4,
 "nbformat_minor": 5
}
