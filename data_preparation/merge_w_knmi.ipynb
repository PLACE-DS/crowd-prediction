{
 "cells": [
  {
   "cell_type": "code",
   "execution_count": 128,
   "outputs": [],
   "source": [
    "import pandas as pd\n",
    "import numpy as np\n",
    "from datetime import datetime"
   ],
   "metadata": {
    "collapsed": false,
    "pycharm": {
     "name": "#%%\n"
    }
   }
  },
  {
   "cell_type": "code",
   "execution_count": 139,
   "outputs": [
    {
     "data": {
      "text/plain": "              datetime   DD  FH  FF  FX    T  T10N  TD  SQ  Q  ...  VV  N   U  \\\n0  2020-08-31 00:00:00  350  40  40  80  148   NaN  92   0  0  ...  80  8  69   \n1  2020-08-31 00:15:00  350  40  40  80  148   NaN  92   0  0  ...  80  8  69   \n2  2020-08-31 00:30:00  350  40  40  80  148   NaN  92   0  0  ...  80  8  69   \n3  2020-08-31 00:45:00  350  40  40  80  148   NaN  92   0  0  ...  80  8  69   \n4  2020-08-31 01:00:00  350  40  40  70  145   NaN  87   0  0  ...  80  8  68   \n5  2020-08-31 01:15:00  350  40  40  70  145   NaN  87   0  0  ...  80  8  68   \n6  2020-08-31 01:30:00  350  40  40  70  145   NaN  87   0  0  ...  80  8  68   \n7  2020-08-31 01:45:00  350  40  40  70  145   NaN  87   0  0  ...  80  8  68   \n8  2020-08-31 02:00:00  360  30  30  50  138   NaN  81   0  0  ...  80  8  68   \n9  2020-08-31 02:15:00  360  30  30  50  138   NaN  81   0  0  ...  80  8  68   \n10 2020-08-31 02:30:00  360  30  30  50  138   NaN  81   0  0  ...  80  8  68   \n11 2020-08-31 02:45:00  360  30  30  50  138   NaN  81   0  0  ...  80  8  68   \n12 2020-08-31 03:00:00   10  20  10  40  127   NaN  73   0  0  ...  80  7  69   \n13 2020-08-31 03:15:00   10  20  10  40  127   NaN  73   0  0  ...  80  7  69   \n14 2020-08-31 03:30:00   10  20  10  40  127   NaN  73   0  0  ...  80  7  69   \n15 2020-08-31 03:45:00   10  20  10  40  127   NaN  73   0  0  ...  80  7  69   \n16 2020-08-31 04:00:00  360  10  10  20  113   NaN  82   0  0  ...  75  8  80   \n17 2020-08-31 04:15:00  360  10  10  20  113   NaN  82   0  0  ...  75  8  80   \n18 2020-08-31 04:30:00  360  10  10  20  113   NaN  82   0  0  ...  75  8  80   \n19 2020-08-31 04:45:00  360  10  10  20  113   NaN  82   0  0  ...  75  8  80   \n\n     WW  IX  M  R  S  O  Y  \n0   NaN   5  0  0  0  0  0  \n1   NaN   5  0  0  0  0  0  \n2   NaN   5  0  0  0  0  0  \n3   NaN   5  0  0  0  0  0  \n4   NaN   5  0  0  0  0  0  \n5   NaN   5  0  0  0  0  0  \n6   NaN   5  0  0  0  0  0  \n7   NaN   5  0  0  0  0  0  \n8   NaN   5  0  0  0  0  0  \n9   NaN   5  0  0  0  0  0  \n10  NaN   5  0  0  0  0  0  \n11  NaN   5  0  0  0  0  0  \n12  NaN   5  0  0  0  0  0  \n13  NaN   5  0  0  0  0  0  \n14  NaN   5  0  0  0  0  0  \n15  NaN   5  0  0  0  0  0  \n16  NaN   5  0  0  0  0  0  \n17  NaN   5  0  0  0  0  0  \n18  NaN   5  0  0  0  0  0  \n19  NaN   5  0  0  0  0  0  \n\n[20 rows x 23 columns]",
      "text/html": "<div>\n<style scoped>\n    .dataframe tbody tr th:only-of-type {\n        vertical-align: middle;\n    }\n\n    .dataframe tbody tr th {\n        vertical-align: top;\n    }\n\n    .dataframe thead th {\n        text-align: right;\n    }\n</style>\n<table border=\"1\" class=\"dataframe\">\n  <thead>\n    <tr style=\"text-align: right;\">\n      <th></th>\n      <th>datetime</th>\n      <th>DD</th>\n      <th>FH</th>\n      <th>FF</th>\n      <th>FX</th>\n      <th>T</th>\n      <th>T10N</th>\n      <th>TD</th>\n      <th>SQ</th>\n      <th>Q</th>\n      <th>...</th>\n      <th>VV</th>\n      <th>N</th>\n      <th>U</th>\n      <th>WW</th>\n      <th>IX</th>\n      <th>M</th>\n      <th>R</th>\n      <th>S</th>\n      <th>O</th>\n      <th>Y</th>\n    </tr>\n  </thead>\n  <tbody>\n    <tr>\n      <th>0</th>\n      <td>2020-08-31 00:00:00</td>\n      <td>350</td>\n      <td>40</td>\n      <td>40</td>\n      <td>80</td>\n      <td>148</td>\n      <td>NaN</td>\n      <td>92</td>\n      <td>0</td>\n      <td>0</td>\n      <td>...</td>\n      <td>80</td>\n      <td>8</td>\n      <td>69</td>\n      <td>NaN</td>\n      <td>5</td>\n      <td>0</td>\n      <td>0</td>\n      <td>0</td>\n      <td>0</td>\n      <td>0</td>\n    </tr>\n    <tr>\n      <th>1</th>\n      <td>2020-08-31 00:15:00</td>\n      <td>350</td>\n      <td>40</td>\n      <td>40</td>\n      <td>80</td>\n      <td>148</td>\n      <td>NaN</td>\n      <td>92</td>\n      <td>0</td>\n      <td>0</td>\n      <td>...</td>\n      <td>80</td>\n      <td>8</td>\n      <td>69</td>\n      <td>NaN</td>\n      <td>5</td>\n      <td>0</td>\n      <td>0</td>\n      <td>0</td>\n      <td>0</td>\n      <td>0</td>\n    </tr>\n    <tr>\n      <th>2</th>\n      <td>2020-08-31 00:30:00</td>\n      <td>350</td>\n      <td>40</td>\n      <td>40</td>\n      <td>80</td>\n      <td>148</td>\n      <td>NaN</td>\n      <td>92</td>\n      <td>0</td>\n      <td>0</td>\n      <td>...</td>\n      <td>80</td>\n      <td>8</td>\n      <td>69</td>\n      <td>NaN</td>\n      <td>5</td>\n      <td>0</td>\n      <td>0</td>\n      <td>0</td>\n      <td>0</td>\n      <td>0</td>\n    </tr>\n    <tr>\n      <th>3</th>\n      <td>2020-08-31 00:45:00</td>\n      <td>350</td>\n      <td>40</td>\n      <td>40</td>\n      <td>80</td>\n      <td>148</td>\n      <td>NaN</td>\n      <td>92</td>\n      <td>0</td>\n      <td>0</td>\n      <td>...</td>\n      <td>80</td>\n      <td>8</td>\n      <td>69</td>\n      <td>NaN</td>\n      <td>5</td>\n      <td>0</td>\n      <td>0</td>\n      <td>0</td>\n      <td>0</td>\n      <td>0</td>\n    </tr>\n    <tr>\n      <th>4</th>\n      <td>2020-08-31 01:00:00</td>\n      <td>350</td>\n      <td>40</td>\n      <td>40</td>\n      <td>70</td>\n      <td>145</td>\n      <td>NaN</td>\n      <td>87</td>\n      <td>0</td>\n      <td>0</td>\n      <td>...</td>\n      <td>80</td>\n      <td>8</td>\n      <td>68</td>\n      <td>NaN</td>\n      <td>5</td>\n      <td>0</td>\n      <td>0</td>\n      <td>0</td>\n      <td>0</td>\n      <td>0</td>\n    </tr>\n    <tr>\n      <th>5</th>\n      <td>2020-08-31 01:15:00</td>\n      <td>350</td>\n      <td>40</td>\n      <td>40</td>\n      <td>70</td>\n      <td>145</td>\n      <td>NaN</td>\n      <td>87</td>\n      <td>0</td>\n      <td>0</td>\n      <td>...</td>\n      <td>80</td>\n      <td>8</td>\n      <td>68</td>\n      <td>NaN</td>\n      <td>5</td>\n      <td>0</td>\n      <td>0</td>\n      <td>0</td>\n      <td>0</td>\n      <td>0</td>\n    </tr>\n    <tr>\n      <th>6</th>\n      <td>2020-08-31 01:30:00</td>\n      <td>350</td>\n      <td>40</td>\n      <td>40</td>\n      <td>70</td>\n      <td>145</td>\n      <td>NaN</td>\n      <td>87</td>\n      <td>0</td>\n      <td>0</td>\n      <td>...</td>\n      <td>80</td>\n      <td>8</td>\n      <td>68</td>\n      <td>NaN</td>\n      <td>5</td>\n      <td>0</td>\n      <td>0</td>\n      <td>0</td>\n      <td>0</td>\n      <td>0</td>\n    </tr>\n    <tr>\n      <th>7</th>\n      <td>2020-08-31 01:45:00</td>\n      <td>350</td>\n      <td>40</td>\n      <td>40</td>\n      <td>70</td>\n      <td>145</td>\n      <td>NaN</td>\n      <td>87</td>\n      <td>0</td>\n      <td>0</td>\n      <td>...</td>\n      <td>80</td>\n      <td>8</td>\n      <td>68</td>\n      <td>NaN</td>\n      <td>5</td>\n      <td>0</td>\n      <td>0</td>\n      <td>0</td>\n      <td>0</td>\n      <td>0</td>\n    </tr>\n    <tr>\n      <th>8</th>\n      <td>2020-08-31 02:00:00</td>\n      <td>360</td>\n      <td>30</td>\n      <td>30</td>\n      <td>50</td>\n      <td>138</td>\n      <td>NaN</td>\n      <td>81</td>\n      <td>0</td>\n      <td>0</td>\n      <td>...</td>\n      <td>80</td>\n      <td>8</td>\n      <td>68</td>\n      <td>NaN</td>\n      <td>5</td>\n      <td>0</td>\n      <td>0</td>\n      <td>0</td>\n      <td>0</td>\n      <td>0</td>\n    </tr>\n    <tr>\n      <th>9</th>\n      <td>2020-08-31 02:15:00</td>\n      <td>360</td>\n      <td>30</td>\n      <td>30</td>\n      <td>50</td>\n      <td>138</td>\n      <td>NaN</td>\n      <td>81</td>\n      <td>0</td>\n      <td>0</td>\n      <td>...</td>\n      <td>80</td>\n      <td>8</td>\n      <td>68</td>\n      <td>NaN</td>\n      <td>5</td>\n      <td>0</td>\n      <td>0</td>\n      <td>0</td>\n      <td>0</td>\n      <td>0</td>\n    </tr>\n    <tr>\n      <th>10</th>\n      <td>2020-08-31 02:30:00</td>\n      <td>360</td>\n      <td>30</td>\n      <td>30</td>\n      <td>50</td>\n      <td>138</td>\n      <td>NaN</td>\n      <td>81</td>\n      <td>0</td>\n      <td>0</td>\n      <td>...</td>\n      <td>80</td>\n      <td>8</td>\n      <td>68</td>\n      <td>NaN</td>\n      <td>5</td>\n      <td>0</td>\n      <td>0</td>\n      <td>0</td>\n      <td>0</td>\n      <td>0</td>\n    </tr>\n    <tr>\n      <th>11</th>\n      <td>2020-08-31 02:45:00</td>\n      <td>360</td>\n      <td>30</td>\n      <td>30</td>\n      <td>50</td>\n      <td>138</td>\n      <td>NaN</td>\n      <td>81</td>\n      <td>0</td>\n      <td>0</td>\n      <td>...</td>\n      <td>80</td>\n      <td>8</td>\n      <td>68</td>\n      <td>NaN</td>\n      <td>5</td>\n      <td>0</td>\n      <td>0</td>\n      <td>0</td>\n      <td>0</td>\n      <td>0</td>\n    </tr>\n    <tr>\n      <th>12</th>\n      <td>2020-08-31 03:00:00</td>\n      <td>10</td>\n      <td>20</td>\n      <td>10</td>\n      <td>40</td>\n      <td>127</td>\n      <td>NaN</td>\n      <td>73</td>\n      <td>0</td>\n      <td>0</td>\n      <td>...</td>\n      <td>80</td>\n      <td>7</td>\n      <td>69</td>\n      <td>NaN</td>\n      <td>5</td>\n      <td>0</td>\n      <td>0</td>\n      <td>0</td>\n      <td>0</td>\n      <td>0</td>\n    </tr>\n    <tr>\n      <th>13</th>\n      <td>2020-08-31 03:15:00</td>\n      <td>10</td>\n      <td>20</td>\n      <td>10</td>\n      <td>40</td>\n      <td>127</td>\n      <td>NaN</td>\n      <td>73</td>\n      <td>0</td>\n      <td>0</td>\n      <td>...</td>\n      <td>80</td>\n      <td>7</td>\n      <td>69</td>\n      <td>NaN</td>\n      <td>5</td>\n      <td>0</td>\n      <td>0</td>\n      <td>0</td>\n      <td>0</td>\n      <td>0</td>\n    </tr>\n    <tr>\n      <th>14</th>\n      <td>2020-08-31 03:30:00</td>\n      <td>10</td>\n      <td>20</td>\n      <td>10</td>\n      <td>40</td>\n      <td>127</td>\n      <td>NaN</td>\n      <td>73</td>\n      <td>0</td>\n      <td>0</td>\n      <td>...</td>\n      <td>80</td>\n      <td>7</td>\n      <td>69</td>\n      <td>NaN</td>\n      <td>5</td>\n      <td>0</td>\n      <td>0</td>\n      <td>0</td>\n      <td>0</td>\n      <td>0</td>\n    </tr>\n    <tr>\n      <th>15</th>\n      <td>2020-08-31 03:45:00</td>\n      <td>10</td>\n      <td>20</td>\n      <td>10</td>\n      <td>40</td>\n      <td>127</td>\n      <td>NaN</td>\n      <td>73</td>\n      <td>0</td>\n      <td>0</td>\n      <td>...</td>\n      <td>80</td>\n      <td>7</td>\n      <td>69</td>\n      <td>NaN</td>\n      <td>5</td>\n      <td>0</td>\n      <td>0</td>\n      <td>0</td>\n      <td>0</td>\n      <td>0</td>\n    </tr>\n    <tr>\n      <th>16</th>\n      <td>2020-08-31 04:00:00</td>\n      <td>360</td>\n      <td>10</td>\n      <td>10</td>\n      <td>20</td>\n      <td>113</td>\n      <td>NaN</td>\n      <td>82</td>\n      <td>0</td>\n      <td>0</td>\n      <td>...</td>\n      <td>75</td>\n      <td>8</td>\n      <td>80</td>\n      <td>NaN</td>\n      <td>5</td>\n      <td>0</td>\n      <td>0</td>\n      <td>0</td>\n      <td>0</td>\n      <td>0</td>\n    </tr>\n    <tr>\n      <th>17</th>\n      <td>2020-08-31 04:15:00</td>\n      <td>360</td>\n      <td>10</td>\n      <td>10</td>\n      <td>20</td>\n      <td>113</td>\n      <td>NaN</td>\n      <td>82</td>\n      <td>0</td>\n      <td>0</td>\n      <td>...</td>\n      <td>75</td>\n      <td>8</td>\n      <td>80</td>\n      <td>NaN</td>\n      <td>5</td>\n      <td>0</td>\n      <td>0</td>\n      <td>0</td>\n      <td>0</td>\n      <td>0</td>\n    </tr>\n    <tr>\n      <th>18</th>\n      <td>2020-08-31 04:30:00</td>\n      <td>360</td>\n      <td>10</td>\n      <td>10</td>\n      <td>20</td>\n      <td>113</td>\n      <td>NaN</td>\n      <td>82</td>\n      <td>0</td>\n      <td>0</td>\n      <td>...</td>\n      <td>75</td>\n      <td>8</td>\n      <td>80</td>\n      <td>NaN</td>\n      <td>5</td>\n      <td>0</td>\n      <td>0</td>\n      <td>0</td>\n      <td>0</td>\n      <td>0</td>\n    </tr>\n    <tr>\n      <th>19</th>\n      <td>2020-08-31 04:45:00</td>\n      <td>360</td>\n      <td>10</td>\n      <td>10</td>\n      <td>20</td>\n      <td>113</td>\n      <td>NaN</td>\n      <td>82</td>\n      <td>0</td>\n      <td>0</td>\n      <td>...</td>\n      <td>75</td>\n      <td>8</td>\n      <td>80</td>\n      <td>NaN</td>\n      <td>5</td>\n      <td>0</td>\n      <td>0</td>\n      <td>0</td>\n      <td>0</td>\n      <td>0</td>\n    </tr>\n  </tbody>\n</table>\n<p>20 rows × 23 columns</p>\n</div>"
     },
     "execution_count": 139,
     "metadata": {},
     "output_type": "execute_result"
    }
   ],
   "source": [
    "knmi = pd.read_csv('../data/raw/knmi_raw.csv')\n",
    "\n",
    "# get rid of whitespace in headers\n",
    "col_names = knmi.columns\n",
    "col_names = {name : name.strip() for name in col_names}\n",
    "knmi.rename(columns = col_names, inplace=True)\n",
    "\n",
    "# get rid of columns with empty values\n",
    "knmi.replace(r'^\\s*$', np.nan, regex=True, inplace=True)\n",
    "knmi.T10N = knmi.T10N.astype('float64')\n",
    "\n",
    "# fix a datetime column\n",
    "knmi.insert(0, \"datetime\", [datetime.strptime(f'{d} {(h-1):02}', '%Y%m%d %H') for d, h in zip(knmi.YYYYMMDD, knmi.H)])\n",
    "# drop station location\n",
    "knmi.drop(['STN', 'YYYYMMDD', 'H'], axis=1, inplace=True)\n",
    "\n",
    "# up-sample to 15 minute intervals\n",
    "knmi['datetime'] = pd.to_datetime(knmi['datetime'])\n",
    "knmi.set_index('datetime', inplace=True) # need a dt index for resample\n",
    "knmi = knmi.resample('15min').ffill(limit = 3) # up-sample and forward fill the empty rows\n",
    "knmi.reset_index(inplace=True) # revert dt index to column\n",
    "\n",
    "knmi.head(20)"
   ],
   "metadata": {
    "collapsed": false,
    "pycharm": {
     "name": "#%%\n"
    }
   }
  },
  {
   "cell_type": "markdown",
   "source": [
    "## transform like gemeente does it"
   ],
   "metadata": {
    "collapsed": false
   }
  },
  {
   "cell_type": "code",
   "execution_count": 140,
   "outputs": [
    {
     "data": {
      "text/plain": "             datetime  global_radiation  pressure  precipitation_h  \\\n0 2020-08-31 00:00:00                 0    1017.4              0.0   \n1 2020-08-31 00:15:00                 0    1017.4              0.0   \n2 2020-08-31 00:30:00                 0    1017.4              0.0   \n3 2020-08-31 00:45:00                 0    1017.4              0.0   \n4 2020-08-31 01:00:00                 0    1017.7              0.0   \n\n   relative_humidity  temperature  cloud_cover  sight  wind_direction  \\\n0                 69         14.8            8     80             350   \n1                 69         14.8            8     80             350   \n2                 69         14.8            8     80             350   \n3                 69         14.8            8     80             350   \n4                 68         14.5            8     80             350   \n\n   wind_speed  \n0         4.0  \n1         4.0  \n2         4.0  \n3         4.0  \n4         4.0  ",
      "text/html": "<div>\n<style scoped>\n    .dataframe tbody tr th:only-of-type {\n        vertical-align: middle;\n    }\n\n    .dataframe tbody tr th {\n        vertical-align: top;\n    }\n\n    .dataframe thead th {\n        text-align: right;\n    }\n</style>\n<table border=\"1\" class=\"dataframe\">\n  <thead>\n    <tr style=\"text-align: right;\">\n      <th></th>\n      <th>datetime</th>\n      <th>global_radiation</th>\n      <th>pressure</th>\n      <th>precipitation_h</th>\n      <th>relative_humidity</th>\n      <th>temperature</th>\n      <th>cloud_cover</th>\n      <th>sight</th>\n      <th>wind_direction</th>\n      <th>wind_speed</th>\n    </tr>\n  </thead>\n  <tbody>\n    <tr>\n      <th>0</th>\n      <td>2020-08-31 00:00:00</td>\n      <td>0</td>\n      <td>1017.4</td>\n      <td>0.0</td>\n      <td>69</td>\n      <td>14.8</td>\n      <td>8</td>\n      <td>80</td>\n      <td>350</td>\n      <td>4.0</td>\n    </tr>\n    <tr>\n      <th>1</th>\n      <td>2020-08-31 00:15:00</td>\n      <td>0</td>\n      <td>1017.4</td>\n      <td>0.0</td>\n      <td>69</td>\n      <td>14.8</td>\n      <td>8</td>\n      <td>80</td>\n      <td>350</td>\n      <td>4.0</td>\n    </tr>\n    <tr>\n      <th>2</th>\n      <td>2020-08-31 00:30:00</td>\n      <td>0</td>\n      <td>1017.4</td>\n      <td>0.0</td>\n      <td>69</td>\n      <td>14.8</td>\n      <td>8</td>\n      <td>80</td>\n      <td>350</td>\n      <td>4.0</td>\n    </tr>\n    <tr>\n      <th>3</th>\n      <td>2020-08-31 00:45:00</td>\n      <td>0</td>\n      <td>1017.4</td>\n      <td>0.0</td>\n      <td>69</td>\n      <td>14.8</td>\n      <td>8</td>\n      <td>80</td>\n      <td>350</td>\n      <td>4.0</td>\n    </tr>\n    <tr>\n      <th>4</th>\n      <td>2020-08-31 01:00:00</td>\n      <td>0</td>\n      <td>1017.7</td>\n      <td>0.0</td>\n      <td>68</td>\n      <td>14.5</td>\n      <td>8</td>\n      <td>80</td>\n      <td>350</td>\n      <td>4.0</td>\n    </tr>\n  </tbody>\n</table>\n</div>"
     },
     "execution_count": 140,
     "metadata": {},
     "output_type": "execute_result"
    }
   ],
   "source": [
    "knmi.rename(\n",
    "    columns = {\n",
    "        \"DD\": \"wind_direction\", \"FH\": \"wind_speed\", \"FF\": \"wind_speed_10m\", \"FX\": \"wind_gust\",\n",
    "        \"T\": \"temperature\", \"T10N\": \"temperature_min\", \"TD\": \"dew_point_temperature\",\n",
    "        \"SQ\": \"radiation_duration\", \"Q\": \"global_radiation\",\n",
    "        \"DR\": \"precipitation_duration\", \"RH\": \"precipitation_h\",\n",
    "        \"P\": \"pressure\", \"VV\": \"sight\", \"N\": \"cloud_cover\", \"U\": \"relative_humidity\",\n",
    "        \"WW\": \"weather_code\", \"IX\": \"weather_index\",\n",
    "        \"M\": \"fog\", \"R\": \"rain\", \"S\": \"snow\", \"O\": \"thunder\", \"Y\": \"ice\"\n",
    "    }, inplace=True)\n",
    "# divide some columns by ten (because using 0.1 degrees C etc. as units)\n",
    "col10 = [\"wind_speed\", \"wind_speed_10m\", \"wind_gust\", \"temperature\", \"temperature_min\", \"dew_point_temperature\",\n",
    "         \"radiation_duration\", \"precipitation_duration\", \"precipitation_h\", \"pressure\"]\n",
    "knmi[col10] = knmi[col10] / 10\n",
    "knmi.to_csv('../data/knmi_for_us.csv')\n",
    "\n",
    "# drop unwanted columns\n",
    "knmi = knmi[['datetime', 'global_radiation', 'pressure', 'precipitation_h',\n",
    "         'relative_humidity', 'temperature', 'cloud_cover', 'sight',\n",
    "         'wind_direction', 'wind_speed']]\n",
    "\n",
    "knmi.head()"
   ],
   "metadata": {
    "collapsed": false,
    "pycharm": {
     "name": "#%%\n"
    }
   }
  },
  {
   "cell_type": "code",
   "execution_count": 134,
   "outputs": [],
   "source": [
    "knmi.to_csv('../data/knmi_for_baseline.csv')"
   ],
   "metadata": {
    "collapsed": false,
    "pycharm": {
     "name": "#%%\n"
    }
   }
  }
 ],
 "metadata": {
  "kernelspec": {
   "display_name": "Python 3",
   "language": "python",
   "name": "python3"
  },
  "language_info": {
   "codemirror_mode": {
    "name": "ipython",
    "version": 2
   },
   "file_extension": ".py",
   "mimetype": "text/x-python",
   "name": "python",
   "nbconvert_exporter": "python",
   "pygments_lexer": "ipython2",
   "version": "2.7.6"
  }
 },
 "nbformat": 4,
 "nbformat_minor": 0
}