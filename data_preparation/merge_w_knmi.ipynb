{
 "cells": [
  {
   "cell_type": "code",
   "execution_count": 2,
   "metadata": {},
   "outputs": [],
   "source": [
    "import pandas as pd\n",
    "from datetime import datetime"
   ]
  },
  {
   "cell_type": "code",
   "execution_count": 5,
   "metadata": {},
   "outputs": [],
   "source": [
    "knmi = pd.read_csv(\"../data/knmi/knmi_for_baseline.csv\", index_col='Unnamed: 0')"
   ]
  },
  {
   "cell_type": "code",
   "execution_count": 9,
   "metadata": {},
   "outputs": [
    {
     "data": {
      "text/html": [
       "<div>\n",
       "<style scoped>\n",
       "    .dataframe tbody tr th:only-of-type {\n",
       "        vertical-align: middle;\n",
       "    }\n",
       "\n",
       "    .dataframe tbody tr th {\n",
       "        vertical-align: top;\n",
       "    }\n",
       "\n",
       "    .dataframe thead th {\n",
       "        text-align: right;\n",
       "    }\n",
       "</style>\n",
       "<table border=\"1\" class=\"dataframe\">\n",
       "  <thead>\n",
       "    <tr style=\"text-align: right;\">\n",
       "      <th></th>\n",
       "      <th>datetime</th>\n",
       "      <th>GAWW-11</th>\n",
       "      <th>GAWW-12</th>\n",
       "      <th>GAWW-14</th>\n",
       "      <th>vacation_dummy</th>\n",
       "      <th>holiday_dummy</th>\n",
       "      <th>stringency_index</th>\n",
       "    </tr>\n",
       "  </thead>\n",
       "  <tbody>\n",
       "    <tr>\n",
       "      <th>46843</th>\n",
       "      <td>2022-01-01 22:45:00</td>\n",
       "      <td>48.0</td>\n",
       "      <td>22.0</td>\n",
       "      <td>21.0</td>\n",
       "      <td>1</td>\n",
       "      <td>1</td>\n",
       "      <td>63.89</td>\n",
       "    </tr>\n",
       "    <tr>\n",
       "      <th>46844</th>\n",
       "      <td>2022-01-01 23:00:00</td>\n",
       "      <td>28.0</td>\n",
       "      <td>16.0</td>\n",
       "      <td>21.0</td>\n",
       "      <td>1</td>\n",
       "      <td>1</td>\n",
       "      <td>63.89</td>\n",
       "    </tr>\n",
       "    <tr>\n",
       "      <th>46845</th>\n",
       "      <td>2022-01-01 23:15:00</td>\n",
       "      <td>27.0</td>\n",
       "      <td>26.0</td>\n",
       "      <td>21.0</td>\n",
       "      <td>1</td>\n",
       "      <td>1</td>\n",
       "      <td>63.89</td>\n",
       "    </tr>\n",
       "    <tr>\n",
       "      <th>46846</th>\n",
       "      <td>2022-01-01 23:30:00</td>\n",
       "      <td>29.0</td>\n",
       "      <td>19.0</td>\n",
       "      <td>15.0</td>\n",
       "      <td>1</td>\n",
       "      <td>1</td>\n",
       "      <td>63.89</td>\n",
       "    </tr>\n",
       "    <tr>\n",
       "      <th>46847</th>\n",
       "      <td>2022-01-01 23:45:00</td>\n",
       "      <td>25.0</td>\n",
       "      <td>14.0</td>\n",
       "      <td>19.0</td>\n",
       "      <td>1</td>\n",
       "      <td>1</td>\n",
       "      <td>63.89</td>\n",
       "    </tr>\n",
       "  </tbody>\n",
       "</table>\n",
       "</div>"
      ],
      "text/plain": [
       "                  datetime  GAWW-11  GAWW-12  GAWW-14  vacation_dummy  \\\n",
       "46843  2022-01-01 22:45:00     48.0     22.0     21.0               1   \n",
       "46844  2022-01-01 23:00:00     28.0     16.0     21.0               1   \n",
       "46845  2022-01-01 23:15:00     27.0     26.0     21.0               1   \n",
       "46846  2022-01-01 23:30:00     29.0     19.0     15.0               1   \n",
       "46847  2022-01-01 23:45:00     25.0     14.0     19.0               1   \n",
       "\n",
       "       holiday_dummy  stringency_index  \n",
       "46843              1             63.89  \n",
       "46844              1             63.89  \n",
       "46845              1             63.89  \n",
       "46846              1             63.89  \n",
       "46847              1             63.89  "
      ]
     },
     "execution_count": 9,
     "metadata": {},
     "output_type": "execute_result"
    }
   ],
   "source": [
    "cmsa_baseline = pd.read_csv(\"../data/cmsa_baseline.csv\", index_col=\"Unnamed: 0\")\n",
    "cmsa_baseline.tail()"
   ]
  },
  {
   "cell_type": "code",
   "execution_count": 10,
   "metadata": {},
   "outputs": [
    {
     "data": {
      "text/plain": [
       "(47805, 10)"
      ]
     },
     "execution_count": 10,
     "metadata": {},
     "output_type": "execute_result"
    }
   ],
   "source": [
    "knmi.shape"
   ]
  },
  {
   "cell_type": "code",
   "execution_count": 15,
   "metadata": {},
   "outputs": [
    {
     "data": {
      "text/plain": [
       "datetime              object\n",
       "global_radiation       int64\n",
       "pressure             float64\n",
       "precipitation_h      float64\n",
       "relative_humidity      int64\n",
       "temperature          float64\n",
       "cloud_cover            int64\n",
       "sight                  int64\n",
       "wind_direction         int64\n",
       "wind_speed           float64\n",
       "dtype: object"
      ]
     },
     "execution_count": 15,
     "metadata": {},
     "output_type": "execute_result"
    }
   ],
   "source": [
    "knmi.dtypes"
   ]
  },
  {
   "cell_type": "code",
   "execution_count": 12,
   "metadata": {},
   "outputs": [],
   "source": [
    "start_date = '2020-09-01'\n",
    "end_date = '2022-02-01'"
   ]
  },
  {
   "cell_type": "code",
   "execution_count": 16,
   "metadata": {},
   "outputs": [
    {
     "data": {
      "text/plain": [
       "(46752, 10)"
      ]
     },
     "execution_count": 16,
     "metadata": {},
     "output_type": "execute_result"
    }
   ],
   "source": [
    "knmi = knmi[(knmi.datetime >= start_date) & (knmi.datetime < end_date)]\n",
    "knmi.shape"
   ]
  },
  {
   "cell_type": "code",
   "execution_count": 17,
   "metadata": {},
   "outputs": [
    {
     "data": {
      "text/html": [
       "<div>\n",
       "<style scoped>\n",
       "    .dataframe tbody tr th:only-of-type {\n",
       "        vertical-align: middle;\n",
       "    }\n",
       "\n",
       "    .dataframe tbody tr th {\n",
       "        vertical-align: top;\n",
       "    }\n",
       "\n",
       "    .dataframe thead th {\n",
       "        text-align: right;\n",
       "    }\n",
       "</style>\n",
       "<table border=\"1\" class=\"dataframe\">\n",
       "  <thead>\n",
       "    <tr style=\"text-align: right;\">\n",
       "      <th></th>\n",
       "      <th>datetime</th>\n",
       "      <th>global_radiation</th>\n",
       "      <th>pressure</th>\n",
       "      <th>precipitation_h</th>\n",
       "      <th>relative_humidity</th>\n",
       "      <th>temperature</th>\n",
       "      <th>cloud_cover</th>\n",
       "      <th>sight</th>\n",
       "      <th>wind_direction</th>\n",
       "      <th>wind_speed</th>\n",
       "    </tr>\n",
       "  </thead>\n",
       "  <tbody>\n",
       "    <tr>\n",
       "      <th>46843</th>\n",
       "      <td>2021-12-31 22:45:00</td>\n",
       "      <td>0</td>\n",
       "      <td>102.13</td>\n",
       "      <td>0.0</td>\n",
       "      <td>88</td>\n",
       "      <td>1.16</td>\n",
       "      <td>8</td>\n",
       "      <td>59</td>\n",
       "      <td>230</td>\n",
       "      <td>0.7</td>\n",
       "    </tr>\n",
       "    <tr>\n",
       "      <th>46844</th>\n",
       "      <td>2021-12-31 23:00:00</td>\n",
       "      <td>0</td>\n",
       "      <td>102.18</td>\n",
       "      <td>0.0</td>\n",
       "      <td>93</td>\n",
       "      <td>1.00</td>\n",
       "      <td>8</td>\n",
       "      <td>31</td>\n",
       "      <td>210</td>\n",
       "      <td>0.6</td>\n",
       "    </tr>\n",
       "    <tr>\n",
       "      <th>46845</th>\n",
       "      <td>2021-12-31 23:15:00</td>\n",
       "      <td>0</td>\n",
       "      <td>102.18</td>\n",
       "      <td>0.0</td>\n",
       "      <td>93</td>\n",
       "      <td>1.00</td>\n",
       "      <td>8</td>\n",
       "      <td>31</td>\n",
       "      <td>210</td>\n",
       "      <td>0.6</td>\n",
       "    </tr>\n",
       "    <tr>\n",
       "      <th>46846</th>\n",
       "      <td>2021-12-31 23:30:00</td>\n",
       "      <td>0</td>\n",
       "      <td>102.18</td>\n",
       "      <td>0.0</td>\n",
       "      <td>93</td>\n",
       "      <td>1.00</td>\n",
       "      <td>8</td>\n",
       "      <td>31</td>\n",
       "      <td>210</td>\n",
       "      <td>0.6</td>\n",
       "    </tr>\n",
       "    <tr>\n",
       "      <th>46847</th>\n",
       "      <td>2021-12-31 23:45:00</td>\n",
       "      <td>0</td>\n",
       "      <td>102.18</td>\n",
       "      <td>0.0</td>\n",
       "      <td>93</td>\n",
       "      <td>1.00</td>\n",
       "      <td>8</td>\n",
       "      <td>31</td>\n",
       "      <td>210</td>\n",
       "      <td>0.6</td>\n",
       "    </tr>\n",
       "  </tbody>\n",
       "</table>\n",
       "</div>"
      ],
      "text/plain": [
       "                  datetime  global_radiation  pressure  precipitation_h  \\\n",
       "46843  2021-12-31 22:45:00                 0    102.13              0.0   \n",
       "46844  2021-12-31 23:00:00                 0    102.18              0.0   \n",
       "46845  2021-12-31 23:15:00                 0    102.18              0.0   \n",
       "46846  2021-12-31 23:30:00                 0    102.18              0.0   \n",
       "46847  2021-12-31 23:45:00                 0    102.18              0.0   \n",
       "\n",
       "       relative_humidity  temperature  cloud_cover  sight  wind_direction  \\\n",
       "46843                 88         1.16            8     59             230   \n",
       "46844                 93         1.00            8     31             210   \n",
       "46845                 93         1.00            8     31             210   \n",
       "46846                 93         1.00            8     31             210   \n",
       "46847                 93         1.00            8     31             210   \n",
       "\n",
       "       wind_speed  \n",
       "46843         0.7  \n",
       "46844         0.6  \n",
       "46845         0.6  \n",
       "46846         0.6  \n",
       "46847         0.6  "
      ]
     },
     "execution_count": 17,
     "metadata": {},
     "output_type": "execute_result"
    }
   ],
   "source": [
    "knmi.tail()"
   ]
  },
  {
   "cell_type": "code",
   "execution_count": null,
   "metadata": {},
   "outputs": [],
   "source": []
  }
 ],
 "metadata": {
  "interpreter": {
   "hash": "aee8b7b246df8f9039afb4144a1f6fd8d2ca17a180786b69acc140d282b71a49"
  },
  "kernelspec": {
   "display_name": "Python 3.9.7 64-bit",
   "language": "python",
   "name": "python3"
  },
  "language_info": {
   "codemirror_mode": {
    "name": "ipython",
    "version": 3
   },
   "file_extension": ".py",
   "mimetype": "text/x-python",
   "name": "python",
   "nbconvert_exporter": "python",
   "pygments_lexer": "ipython3",
   "version": "3.9.7"
  },
  "orig_nbformat": 4
 },
 "nbformat": 4,
 "nbformat_minor": 2
}
