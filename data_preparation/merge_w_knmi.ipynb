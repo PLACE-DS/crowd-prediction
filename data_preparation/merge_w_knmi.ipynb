{
 "cells": [
  {
   "cell_type": "code",
   "execution_count": 2,
   "metadata": {},
   "outputs": [],
   "source": [
    "import pandas as pd\n",
    "from datetime import datetime"
   ]
  },
  {
   "cell_type": "markdown",
   "metadata": {},
   "source": [
    "### Baseline"
   ]
  },
  {
   "cell_type": "code",
   "execution_count": 25,
   "metadata": {},
   "outputs": [],
   "source": [
    "knmi = pd.read_csv(\"../data/knmi/knmi_for_baseline.csv\", index_col='Unnamed: 0')"
   ]
  },
  {
   "cell_type": "code",
   "execution_count": 9,
   "metadata": {},
   "outputs": [
    {
     "data": {
      "text/html": [
       "<div>\n",
       "<style scoped>\n",
       "    .dataframe tbody tr th:only-of-type {\n",
       "        vertical-align: middle;\n",
       "    }\n",
       "\n",
       "    .dataframe tbody tr th {\n",
       "        vertical-align: top;\n",
       "    }\n",
       "\n",
       "    .dataframe thead th {\n",
       "        text-align: right;\n",
       "    }\n",
       "</style>\n",
       "<table border=\"1\" class=\"dataframe\">\n",
       "  <thead>\n",
       "    <tr style=\"text-align: right;\">\n",
       "      <th></th>\n",
       "      <th>datetime</th>\n",
       "      <th>GAWW-11</th>\n",
       "      <th>GAWW-12</th>\n",
       "      <th>GAWW-14</th>\n",
       "      <th>vacation_dummy</th>\n",
       "      <th>holiday_dummy</th>\n",
       "      <th>stringency_index</th>\n",
       "    </tr>\n",
       "  </thead>\n",
       "  <tbody>\n",
       "    <tr>\n",
       "      <th>46843</th>\n",
       "      <td>2022-01-01 22:45:00</td>\n",
       "      <td>48.0</td>\n",
       "      <td>22.0</td>\n",
       "      <td>21.0</td>\n",
       "      <td>1</td>\n",
       "      <td>1</td>\n",
       "      <td>63.89</td>\n",
       "    </tr>\n",
       "    <tr>\n",
       "      <th>46844</th>\n",
       "      <td>2022-01-01 23:00:00</td>\n",
       "      <td>28.0</td>\n",
       "      <td>16.0</td>\n",
       "      <td>21.0</td>\n",
       "      <td>1</td>\n",
       "      <td>1</td>\n",
       "      <td>63.89</td>\n",
       "    </tr>\n",
       "    <tr>\n",
       "      <th>46845</th>\n",
       "      <td>2022-01-01 23:15:00</td>\n",
       "      <td>27.0</td>\n",
       "      <td>26.0</td>\n",
       "      <td>21.0</td>\n",
       "      <td>1</td>\n",
       "      <td>1</td>\n",
       "      <td>63.89</td>\n",
       "    </tr>\n",
       "    <tr>\n",
       "      <th>46846</th>\n",
       "      <td>2022-01-01 23:30:00</td>\n",
       "      <td>29.0</td>\n",
       "      <td>19.0</td>\n",
       "      <td>15.0</td>\n",
       "      <td>1</td>\n",
       "      <td>1</td>\n",
       "      <td>63.89</td>\n",
       "    </tr>\n",
       "    <tr>\n",
       "      <th>46847</th>\n",
       "      <td>2022-01-01 23:45:00</td>\n",
       "      <td>25.0</td>\n",
       "      <td>14.0</td>\n",
       "      <td>19.0</td>\n",
       "      <td>1</td>\n",
       "      <td>1</td>\n",
       "      <td>63.89</td>\n",
       "    </tr>\n",
       "  </tbody>\n",
       "</table>\n",
       "</div>"
      ],
      "text/plain": [
       "                  datetime  GAWW-11  GAWW-12  GAWW-14  vacation_dummy  \\\n",
       "46843  2022-01-01 22:45:00     48.0     22.0     21.0               1   \n",
       "46844  2022-01-01 23:00:00     28.0     16.0     21.0               1   \n",
       "46845  2022-01-01 23:15:00     27.0     26.0     21.0               1   \n",
       "46846  2022-01-01 23:30:00     29.0     19.0     15.0               1   \n",
       "46847  2022-01-01 23:45:00     25.0     14.0     19.0               1   \n",
       "\n",
       "       holiday_dummy  stringency_index  \n",
       "46843              1             63.89  \n",
       "46844              1             63.89  \n",
       "46845              1             63.89  \n",
       "46846              1             63.89  \n",
       "46847              1             63.89  "
      ]
     },
     "execution_count": 9,
     "metadata": {},
     "output_type": "execute_result"
    }
   ],
   "source": [
    "cmsa_baseline = pd.read_csv(\"../data/cmsa_baseline.csv\", index_col=\"Unnamed: 0\")\n",
    "cmsa_baseline.tail()"
   ]
  },
  {
   "cell_type": "code",
   "execution_count": 10,
   "metadata": {},
   "outputs": [
    {
     "data": {
      "text/plain": [
       "(47805, 10)"
      ]
     },
     "execution_count": 10,
     "metadata": {},
     "output_type": "execute_result"
    }
   ],
   "source": [
    "knmi.shape"
   ]
  },
  {
   "cell_type": "code",
   "execution_count": 15,
   "metadata": {},
   "outputs": [
    {
     "data": {
      "text/plain": [
       "datetime              object\n",
       "global_radiation       int64\n",
       "pressure             float64\n",
       "precipitation_h      float64\n",
       "relative_humidity      int64\n",
       "temperature          float64\n",
       "cloud_cover            int64\n",
       "sight                  int64\n",
       "wind_direction         int64\n",
       "wind_speed           float64\n",
       "dtype: object"
      ]
     },
     "execution_count": 15,
     "metadata": {},
     "output_type": "execute_result"
    }
   ],
   "source": [
    "knmi.dtypes"
   ]
  },
  {
   "cell_type": "code",
   "execution_count": 26,
   "metadata": {},
   "outputs": [],
   "source": [
    "start_date = '2020-09-01 00:00:00'\n",
    "end_date = '2022-01-01 23:45:00'"
   ]
  },
  {
   "cell_type": "code",
   "execution_count": 27,
   "metadata": {},
   "outputs": [
    {
     "data": {
      "text/plain": [
       "(46848, 10)"
      ]
     },
     "execution_count": 27,
     "metadata": {},
     "output_type": "execute_result"
    }
   ],
   "source": [
    "knmi = knmi[(knmi.datetime >= start_date) & (knmi.datetime <= end_date)]\n",
    "knmi.shape"
   ]
  },
  {
   "cell_type": "code",
   "execution_count": null,
   "metadata": {},
   "outputs": [],
   "source": [
    "knmi = knmi.set_index('datetime')\n",
    "cmsa_baseline = cmsa_baseline.set_index('datetime')"
   ]
  },
  {
   "cell_type": "code",
   "execution_count": 33,
   "metadata": {},
   "outputs": [],
   "source": [
    "cmsa_baseline = pd.concat([cmsa_baseline, knmi], axis=1)"
   ]
  },
  {
   "cell_type": "code",
   "execution_count": 35,
   "metadata": {},
   "outputs": [
    {
     "data": {
      "text/plain": [
       "(46848, 15)"
      ]
     },
     "execution_count": 35,
     "metadata": {},
     "output_type": "execute_result"
    }
   ],
   "source": [
    "cmsa_baseline.shape"
   ]
  },
  {
   "cell_type": "code",
   "execution_count": 36,
   "metadata": {},
   "outputs": [],
   "source": [
    "cmsa_baseline.to_csv(\"../data/cmsa_baseline.csv\")"
   ]
  },
  {
   "cell_type": "markdown",
   "metadata": {},
   "source": [
    "### For our crowd data"
   ]
  },
  {
   "cell_type": "code",
   "execution_count": 39,
   "metadata": {},
   "outputs": [],
   "source": [
    "knmi2 = pd.read_csv(\"../data/knmi/knmi_for_our_model.csv\", index_col='Unnamed: 0')"
   ]
  },
  {
   "cell_type": "code",
   "execution_count": 40,
   "metadata": {},
   "outputs": [
    {
     "data": {
      "text/plain": [
       "Index(['datetime', 'wind_direction', 'wind_speed', 'wind_speed_10m',\n",
       "       'wind_gust', 'temperature', 'temperature_min', 'dew_point_temperature',\n",
       "       'radiation_duration', 'global_radiation', 'precipitation_duration',\n",
       "       'precipitation_h', 'pressure', 'sight', 'cloud_cover',\n",
       "       'relative_humidity', 'weather_code', 'weather_index', 'fog', 'rain',\n",
       "       'snow', 'thunder', 'ice'],\n",
       "      dtype='object')"
      ]
     },
     "execution_count": 40,
     "metadata": {},
     "output_type": "execute_result"
    }
   ],
   "source": [
    "knmi2.columns"
   ]
  },
  {
   "cell_type": "code",
   "execution_count": 44,
   "metadata": {},
   "outputs": [
    {
     "data": {
      "text/plain": [
       "Index(['datetime', 'GAWW-11', 'GAWW-12', 'GAWW-14', 'vacation_dummy',\n",
       "       'holiday_dummy', 'stringency_index', 'checkin_dam', 'checkout_dam',\n",
       "       'checkin_nieuwmarkt', 'checkout_nieuwmarkt', 'hotel_gasten',\n",
       "       'hotel_overnachtingen', 'airport_tot_passengers',\n",
       "       'airport_arrived_passengers', 'airport_departed_passengers',\n",
       "       'covid_cases', 'covid_hospital', 'covid_deaths'],\n",
       "      dtype='object')"
      ]
     },
     "execution_count": 44,
     "metadata": {},
     "output_type": "execute_result"
    }
   ],
   "source": [
    "cmsa_without_knmi = pd.read_csv(\"../data/cmsa_combined_without_knmi.csv\")\n",
    "cmsa_without_knmi.columns"
   ]
  },
  {
   "cell_type": "code",
   "execution_count": 45,
   "metadata": {},
   "outputs": [
    {
     "data": {
      "text/plain": [
       "(46848, 23)"
      ]
     },
     "execution_count": 45,
     "metadata": {},
     "output_type": "execute_result"
    }
   ],
   "source": [
    "knmi2 = knmi2[(knmi2.datetime >= start_date) & (knmi2.datetime <= end_date)]\n",
    "knmi2.shape"
   ]
  },
  {
   "cell_type": "code",
   "execution_count": 46,
   "metadata": {},
   "outputs": [],
   "source": [
    "knmi2 = knmi2.set_index('datetime')\n",
    "cmsa_without_knmi = cmsa_without_knmi.set_index('datetime')"
   ]
  },
  {
   "cell_type": "code",
   "execution_count": 47,
   "metadata": {},
   "outputs": [],
   "source": [
    "cmsa_combined = pd.concat([cmsa_without_knmi, knmi2], axis=1)"
   ]
  },
  {
   "cell_type": "code",
   "execution_count": 48,
   "metadata": {},
   "outputs": [
    {
     "data": {
      "text/plain": [
       "Index(['GAWW-11', 'GAWW-12', 'GAWW-14', 'vacation_dummy', 'holiday_dummy',\n",
       "       'stringency_index', 'checkin_dam', 'checkout_dam', 'checkin_nieuwmarkt',\n",
       "       'checkout_nieuwmarkt', 'hotel_gasten', 'hotel_overnachtingen',\n",
       "       'airport_tot_passengers', 'airport_arrived_passengers',\n",
       "       'airport_departed_passengers', 'covid_cases', 'covid_hospital',\n",
       "       'covid_deaths', 'wind_direction', 'wind_speed', 'wind_speed_10m',\n",
       "       'wind_gust', 'temperature', 'temperature_min', 'dew_point_temperature',\n",
       "       'radiation_duration', 'global_radiation', 'precipitation_duration',\n",
       "       'precipitation_h', 'pressure', 'sight', 'cloud_cover',\n",
       "       'relative_humidity', 'weather_code', 'weather_index', 'fog', 'rain',\n",
       "       'snow', 'thunder', 'ice'],\n",
       "      dtype='object')"
      ]
     },
     "execution_count": 48,
     "metadata": {},
     "output_type": "execute_result"
    }
   ],
   "source": [
    "cmsa_combined.columns"
   ]
  },
  {
   "cell_type": "code",
   "execution_count": 49,
   "metadata": {},
   "outputs": [
    {
     "data": {
      "text/plain": [
       "(46848, 40)"
      ]
     },
     "execution_count": 49,
     "metadata": {},
     "output_type": "execute_result"
    }
   ],
   "source": [
    "cmsa_combined.shape"
   ]
  },
  {
   "cell_type": "code",
   "execution_count": 51,
   "metadata": {},
   "outputs": [],
   "source": [
    "cmsa_combined.to_csv(\"../data/cmsa_combined.csv\")"
   ]
  },
  {
   "cell_type": "code",
   "execution_count": null,
   "metadata": {},
   "outputs": [],
   "source": []
  }
 ],
 "metadata": {
  "interpreter": {
   "hash": "aee8b7b246df8f9039afb4144a1f6fd8d2ca17a180786b69acc140d282b71a49"
  },
  "kernelspec": {
   "display_name": "Python 3.9.7 64-bit",
   "language": "python",
   "name": "python3"
  },
  "language_info": {
   "codemirror_mode": {
    "name": "ipython",
    "version": 3
   },
   "file_extension": ".py",
   "mimetype": "text/x-python",
   "name": "python",
   "nbconvert_exporter": "python",
   "pygments_lexer": "ipython3",
   "version": "3.9.7"
  },
  "orig_nbformat": 4
 },
 "nbformat": 4,
 "nbformat_minor": 2
}
