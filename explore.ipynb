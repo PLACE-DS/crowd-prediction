{
 "cells": [
  {
   "cell_type": "code",
   "execution_count": 61,
   "metadata": {},
   "outputs": [],
   "source": [
    "# Display the dataframe\n",
    "pd.set_option('display.max_columns', None)  # or 1000\n",
    "pd.set_option('display.max_rows', None)  # or 1000\n",
    "pd.set_option('display.max_colwidth', None)  # or 199"
   ]
  },
  {
   "cell_type": "code",
   "execution_count": 69,
   "metadata": {},
   "outputs": [],
   "source": [
    "import pandas as pd\n",
    "import datetime"
   ]
  },
  {
   "cell_type": "code",
   "execution_count": 33,
   "metadata": {},
   "outputs": [],
   "source": [
    "df = pd.read_csv(\"data/sample.csv\", index_col=\"Unnamed: 0\")\n",
    "crowd_sample = df.iloc[:, 0:4]\n",
    "\n",
    "crowd_sample[\"Datetime\"] = pd.to_datetime(crowd_sample['Time'])\n",
    "crowd_sample.set_index([\"Datetime\"], inplace=True)\n",
    "crowd_sample = crowd_sample.drop([\"Time\"], axis=1)"
   ]
  },
  {
   "cell_type": "code",
   "execution_count": 34,
   "metadata": {},
   "outputs": [
    {
     "data": {
      "text/html": [
       "<div>\n",
       "<style scoped>\n",
       "    .dataframe tbody tr th:only-of-type {\n",
       "        vertical-align: middle;\n",
       "    }\n",
       "\n",
       "    .dataframe tbody tr th {\n",
       "        vertical-align: top;\n",
       "    }\n",
       "\n",
       "    .dataframe thead th {\n",
       "        text-align: right;\n",
       "    }\n",
       "</style>\n",
       "<table border=\"1\" class=\"dataframe\">\n",
       "  <thead>\n",
       "    <tr style=\"text-align: right;\">\n",
       "      <th></th>\n",
       "      <th>CMSA-GAWW-22 Kloveniersburgwal</th>\n",
       "      <th>CMSA-GAWW-23 Bloedstraat</th>\n",
       "      <th>CMSA-GAWW-14 Oudezijds Voorburgwal t.h.v. 91</th>\n",
       "    </tr>\n",
       "    <tr>\n",
       "      <th>Datetime</th>\n",
       "      <th></th>\n",
       "      <th></th>\n",
       "      <th></th>\n",
       "    </tr>\n",
       "  </thead>\n",
       "  <tbody>\n",
       "    <tr>\n",
       "      <th>2021-04-10 00:00:00</th>\n",
       "      <td>57</td>\n",
       "      <td>73</td>\n",
       "      <td>77</td>\n",
       "    </tr>\n",
       "    <tr>\n",
       "      <th>2021-04-10 00:15:00</th>\n",
       "      <td>57</td>\n",
       "      <td>42</td>\n",
       "      <td>66</td>\n",
       "    </tr>\n",
       "    <tr>\n",
       "      <th>2021-04-10 00:30:00</th>\n",
       "      <td>43</td>\n",
       "      <td>42</td>\n",
       "      <td>73</td>\n",
       "    </tr>\n",
       "    <tr>\n",
       "      <th>2021-04-10 00:45:00</th>\n",
       "      <td>33</td>\n",
       "      <td>27</td>\n",
       "      <td>71</td>\n",
       "    </tr>\n",
       "    <tr>\n",
       "      <th>2021-04-10 01:00:00</th>\n",
       "      <td>38</td>\n",
       "      <td>31</td>\n",
       "      <td>72</td>\n",
       "    </tr>\n",
       "  </tbody>\n",
       "</table>\n",
       "</div>"
      ],
      "text/plain": [
       "                     CMSA-GAWW-22 Kloveniersburgwal  CMSA-GAWW-23 Bloedstraat  \\\n",
       "Datetime                                                                        \n",
       "2021-04-10 00:00:00                              57                        73   \n",
       "2021-04-10 00:15:00                              57                        42   \n",
       "2021-04-10 00:30:00                              43                        42   \n",
       "2021-04-10 00:45:00                              33                        27   \n",
       "2021-04-10 01:00:00                              38                        31   \n",
       "\n",
       "                     CMSA-GAWW-14 Oudezijds Voorburgwal t.h.v. 91  \n",
       "Datetime                                                           \n",
       "2021-04-10 00:00:00                                            77  \n",
       "2021-04-10 00:15:00                                            66  \n",
       "2021-04-10 00:30:00                                            73  \n",
       "2021-04-10 00:45:00                                            71  \n",
       "2021-04-10 01:00:00                                            72  "
      ]
     },
     "execution_count": 34,
     "metadata": {},
     "output_type": "execute_result"
    }
   ],
   "source": [
    "crowd_sample.head()"
   ]
  },
  {
   "cell_type": "code",
   "execution_count": 35,
   "metadata": {},
   "outputs": [
    {
     "data": {
      "text/plain": [
       "DatetimeIndex(['2021-04-10 00:00:00', '2021-04-10 00:15:00',\n",
       "               '2021-04-10 00:30:00', '2021-04-10 00:45:00',\n",
       "               '2021-04-10 01:00:00', '2021-04-10 01:15:00',\n",
       "               '2021-04-10 01:30:00', '2021-04-10 01:45:00',\n",
       "               '2021-04-10 02:00:00', '2021-04-10 02:15:00',\n",
       "               ...\n",
       "               '2021-10-10 21:30:00', '2021-10-10 21:45:00',\n",
       "               '2021-10-10 22:00:00', '2021-10-10 22:15:00',\n",
       "               '2021-10-10 22:30:00', '2021-10-10 22:45:00',\n",
       "               '2021-10-10 23:00:00', '2021-10-10 23:15:00',\n",
       "               '2021-10-10 23:30:00', '2021-10-10 23:45:00'],\n",
       "              dtype='datetime64[ns]', name='Datetime', length=672, freq=None)"
      ]
     },
     "execution_count": 35,
     "metadata": {},
     "output_type": "execute_result"
    }
   ],
   "source": [
    "crowd_sample.index"
   ]
  },
  {
   "cell_type": "code",
   "execution_count": 36,
   "metadata": {},
   "outputs": [
    {
     "name": "stdout",
     "output_type": "stream",
     "text": [
      "Series([], dtype: int64)\n"
     ]
    }
   ],
   "source": [
    "# Any null values\n",
    "missing_val_count_by_column = (crowd_sample.isnull().sum())\n",
    "print(missing_val_count_by_column[missing_val_count_by_column > 0])"
   ]
  },
  {
   "cell_type": "code",
   "execution_count": 38,
   "metadata": {},
   "outputs": [
    {
     "data": {
      "text/plain": [
       "2016"
      ]
     },
     "execution_count": 38,
     "metadata": {},
     "output_type": "execute_result"
    }
   ],
   "source": [
    "crowd_sample.size"
   ]
  },
  {
   "cell_type": "code",
   "execution_count": 95,
   "metadata": {
    "tags": []
   },
   "outputs": [],
   "source": [
    "sensor1 = pd.read_csv(\"data/CMSA-GAWW-22-Kloveniersburgwal.csv\")\n",
    "sensor1[\"Datetime\"] = pd.to_datetime(sensor1['Datetime'])\n",
    "# df.rename(columns={\"A\": \"a\", \"B\": \"c\"})\n",
    "sensor1 = sensor1.rename(columns={\"CMSA-GAWW-22 Kloveniersburgwal\": \"count\"})"
   ]
  },
  {
   "cell_type": "code",
   "execution_count": 96,
   "metadata": {},
   "outputs": [
    {
     "data": {
      "text/html": [
       "<div>\n",
       "<style scoped>\n",
       "    .dataframe tbody tr th:only-of-type {\n",
       "        vertical-align: middle;\n",
       "    }\n",
       "\n",
       "    .dataframe tbody tr th {\n",
       "        vertical-align: top;\n",
       "    }\n",
       "\n",
       "    .dataframe thead th {\n",
       "        text-align: right;\n",
       "    }\n",
       "</style>\n",
       "<table border=\"1\" class=\"dataframe\">\n",
       "  <thead>\n",
       "    <tr style=\"text-align: right;\">\n",
       "      <th></th>\n",
       "      <th>Datetime</th>\n",
       "      <th>count</th>\n",
       "    </tr>\n",
       "  </thead>\n",
       "  <tbody>\n",
       "    <tr>\n",
       "      <th>0</th>\n",
       "      <td>2021-04-10 00:00:00</td>\n",
       "      <td>57</td>\n",
       "    </tr>\n",
       "    <tr>\n",
       "      <th>1</th>\n",
       "      <td>2021-04-10 00:15:00</td>\n",
       "      <td>57</td>\n",
       "    </tr>\n",
       "    <tr>\n",
       "      <th>2</th>\n",
       "      <td>2021-04-10 00:30:00</td>\n",
       "      <td>43</td>\n",
       "    </tr>\n",
       "    <tr>\n",
       "      <th>3</th>\n",
       "      <td>2021-04-10 00:45:00</td>\n",
       "      <td>33</td>\n",
       "    </tr>\n",
       "    <tr>\n",
       "      <th>4</th>\n",
       "      <td>2021-04-10 01:00:00</td>\n",
       "      <td>38</td>\n",
       "    </tr>\n",
       "  </tbody>\n",
       "</table>\n",
       "</div>"
      ],
      "text/plain": [
       "             Datetime  count\n",
       "0 2021-04-10 00:00:00     57\n",
       "1 2021-04-10 00:15:00     57\n",
       "2 2021-04-10 00:30:00     43\n",
       "3 2021-04-10 00:45:00     33\n",
       "4 2021-04-10 01:00:00     38"
      ]
     },
     "execution_count": 96,
     "metadata": {},
     "output_type": "execute_result"
    }
   ],
   "source": [
    "sensor1.head()"
   ]
  },
  {
   "cell_type": "code",
   "execution_count": 184,
   "metadata": {},
   "outputs": [],
   "source": [
    "# Crowd prediction based on simple ARMA model, using sample data\n",
    "import pandas as pd\n",
    "import numpy as np\n",
    "import matplotlib.pyplot as plt\n",
    "import statsmodels.api as sm\n",
    "from statsmodels.tsa.arima_model import ARIMA\n",
    "import warnings\n",
    "\n",
    "# Specify to ignore warning messages\n",
    "warnings.filterwarnings(\"ignore\")\n",
    "\n",
    "# Training set\n",
    "train = sensor1[-100:]\n",
    "arima_fit = ARIMA(train[\"count\"].values, order=(1,0,1)).fit()\n",
    "fc, se, conf  = arima_fit.forecast(100, alpha=0.05)  # 95% conf\n",
    "\n",
    "dt = [train.iloc[-1:][\"Datetime\"].values[0] + np.timedelta64(15*i,'m') for i in range(100)]\n",
    "forecasts = pd.DataFrame({\"datetime\": dt})\n",
    "forecasts[\"forecast\"] = fc \n",
    "forecasts[\"lower_bound\"] = conf[:, 0]\n",
    "forecasts[\"upper_bound\"] = conf[:, 1]\n",
    "# lower_bound = pd.Series(conf[:, 0], index=index)\n",
    "# upper_bound = pd.Series(conf[:, 1], index=index)"
   ]
  },
  {
   "cell_type": "code",
   "execution_count": 187,
   "metadata": {},
   "outputs": [],
   "source": [
    "forecasts.to_csv(\"result/sensor1_forecast.csv\")"
   ]
  }
 ],
 "metadata": {
  "kernelspec": {
   "display_name": "Python 3",
   "language": "python",
   "name": "python3"
  },
  "language_info": {
   "codemirror_mode": {
    "name": "ipython",
    "version": 3
   },
   "file_extension": ".py",
   "mimetype": "text/x-python",
   "name": "python",
   "nbconvert_exporter": "python",
   "pygments_lexer": "ipython3",
   "version": "3.8.3"
  }
 },
 "nbformat": 4,
 "nbformat_minor": 4
}
