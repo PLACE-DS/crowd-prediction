{
 "cells": [
  {
   "cell_type": "code",
   "execution_count": 137,
   "id": "f1c9d03a",
   "metadata": {},
   "outputs": [],
   "source": [
    "import pandas as pd\n",
    "from sklearn.preprocessing import LabelEncoder\n",
    "import seaborn as sns\n",
    "import numpy as np\n",
    "import matplotlib.pyplot as plt"
   ]
  },
  {
   "cell_type": "code",
   "execution_count": 138,
   "id": "bb8b56a2",
   "metadata": {},
   "outputs": [],
   "source": [
    "df_full = pd.read_csv('../data/cmsa_baseline.csv')"
   ]
  },
  {
   "cell_type": "code",
   "execution_count": 139,
   "id": "15858406",
   "metadata": {},
   "outputs": [],
   "source": [
    "df_full = df_full.iloc[:,1:].set_index('datetime')"
   ]
  },
  {
   "cell_type": "code",
   "execution_count": 140,
   "id": "30ddc4c5",
   "metadata": {},
   "outputs": [],
   "source": [
    "start_train = '2020-09-01 00:00:00'\n",
    "end_train = '2021-12-01 00:00:00'"
   ]
  },
  {
   "cell_type": "code",
   "execution_count": 141,
   "id": "6e96b3a6",
   "metadata": {},
   "outputs": [],
   "source": [
    "df_train = df_full[(df_full.index >= start_train) & (df_full.index < end_train)]"
   ]
  },
  {
   "cell_type": "code",
   "execution_count": 142,
   "id": "7ff12aa2",
   "metadata": {},
   "outputs": [
    {
     "name": "stderr",
     "output_type": "stream",
     "text": [
      "/var/folders/3k/f1097l0x5kv5_h73ypy7tnfr0000gn/T/ipykernel_72763/515974365.py:2: SettingWithCopyWarning: \n",
      "A value is trying to be set on a copy of a slice from a DataFrame.\n",
      "Try using .loc[row_indexer,col_indexer] = value instead\n",
      "\n",
      "See the caveats in the documentation: https://pandas.pydata.org/pandas-docs/stable/user_guide/indexing.html#returning-a-view-versus-a-copy\n",
      "  df_train['vacation_dummy'] = label_encoder.fit_transform(df_train['vacation_dummy']).astype('float64')\n",
      "/var/folders/3k/f1097l0x5kv5_h73ypy7tnfr0000gn/T/ipykernel_72763/515974365.py:3: SettingWithCopyWarning: \n",
      "A value is trying to be set on a copy of a slice from a DataFrame.\n",
      "Try using .loc[row_indexer,col_indexer] = value instead\n",
      "\n",
      "See the caveats in the documentation: https://pandas.pydata.org/pandas-docs/stable/user_guide/indexing.html#returning-a-view-versus-a-copy\n",
      "  df_train['holiday_dummy'] = label_encoder.fit_transform(df_train['holiday_dummy']).astype('float64')\n"
     ]
    }
   ],
   "source": [
    "label_encoder = LabelEncoder()\n",
    "df_train['vacation_dummy'] = label_encoder.fit_transform(df_train['vacation_dummy']).astype('float64')\n",
    "df_train['holiday_dummy'] = label_encoder.fit_transform(df_train['holiday_dummy']).astype('float64')"
   ]
  },
  {
   "cell_type": "code",
   "execution_count": 143,
   "id": "1299f844",
   "metadata": {},
   "outputs": [],
   "source": [
    "df_train_11 = df_train.drop(columns=['GAWW-12', 'GAWW-14'])\n",
    "df_train_12 = df_train.drop(columns=['GAWW-11', 'GAWW-14'])\n",
    "df_train_14 = df_train.drop(columns=['GAWW-11', 'GAWW-12'])"
   ]
  },
  {
   "cell_type": "code",
   "execution_count": 144,
   "id": "92794c42",
   "metadata": {},
   "outputs": [
    {
     "data": {
      "text/html": [
       "<div>\n",
       "<style scoped>\n",
       "    .dataframe tbody tr th:only-of-type {\n",
       "        vertical-align: middle;\n",
       "    }\n",
       "\n",
       "    .dataframe tbody tr th {\n",
       "        vertical-align: top;\n",
       "    }\n",
       "\n",
       "    .dataframe thead th {\n",
       "        text-align: right;\n",
       "    }\n",
       "</style>\n",
       "<table border=\"1\" class=\"dataframe\">\n",
       "  <thead>\n",
       "    <tr style=\"text-align: right;\">\n",
       "      <th></th>\n",
       "      <th>GAWW-14</th>\n",
       "      <th>vacation_dummy</th>\n",
       "      <th>holiday_dummy</th>\n",
       "      <th>stringency_index</th>\n",
       "    </tr>\n",
       "    <tr>\n",
       "      <th>datetime</th>\n",
       "      <th></th>\n",
       "      <th></th>\n",
       "      <th></th>\n",
       "      <th></th>\n",
       "    </tr>\n",
       "  </thead>\n",
       "  <tbody>\n",
       "    <tr>\n",
       "      <th>2020-09-01 00:00:00</th>\n",
       "      <td>32.0</td>\n",
       "      <td>0.0</td>\n",
       "      <td>0.0</td>\n",
       "      <td>50.93</td>\n",
       "    </tr>\n",
       "    <tr>\n",
       "      <th>2020-09-01 00:15:00</th>\n",
       "      <td>30.0</td>\n",
       "      <td>0.0</td>\n",
       "      <td>0.0</td>\n",
       "      <td>50.93</td>\n",
       "    </tr>\n",
       "    <tr>\n",
       "      <th>2020-09-01 00:30:00</th>\n",
       "      <td>27.0</td>\n",
       "      <td>0.0</td>\n",
       "      <td>0.0</td>\n",
       "      <td>50.93</td>\n",
       "    </tr>\n",
       "    <tr>\n",
       "      <th>2020-09-01 00:45:00</th>\n",
       "      <td>26.0</td>\n",
       "      <td>0.0</td>\n",
       "      <td>0.0</td>\n",
       "      <td>50.93</td>\n",
       "    </tr>\n",
       "    <tr>\n",
       "      <th>2020-09-01 01:00:00</th>\n",
       "      <td>43.0</td>\n",
       "      <td>0.0</td>\n",
       "      <td>0.0</td>\n",
       "      <td>50.93</td>\n",
       "    </tr>\n",
       "    <tr>\n",
       "      <th>...</th>\n",
       "      <td>...</td>\n",
       "      <td>...</td>\n",
       "      <td>...</td>\n",
       "      <td>...</td>\n",
       "    </tr>\n",
       "    <tr>\n",
       "      <th>2021-11-30 22:45:00</th>\n",
       "      <td>15.0</td>\n",
       "      <td>0.0</td>\n",
       "      <td>0.0</td>\n",
       "      <td>56.48</td>\n",
       "    </tr>\n",
       "    <tr>\n",
       "      <th>2021-11-30 23:00:00</th>\n",
       "      <td>20.0</td>\n",
       "      <td>0.0</td>\n",
       "      <td>0.0</td>\n",
       "      <td>56.48</td>\n",
       "    </tr>\n",
       "    <tr>\n",
       "      <th>2021-11-30 23:15:00</th>\n",
       "      <td>19.0</td>\n",
       "      <td>0.0</td>\n",
       "      <td>0.0</td>\n",
       "      <td>56.48</td>\n",
       "    </tr>\n",
       "    <tr>\n",
       "      <th>2021-11-30 23:30:00</th>\n",
       "      <td>15.0</td>\n",
       "      <td>0.0</td>\n",
       "      <td>0.0</td>\n",
       "      <td>56.48</td>\n",
       "    </tr>\n",
       "    <tr>\n",
       "      <th>2021-11-30 23:45:00</th>\n",
       "      <td>13.0</td>\n",
       "      <td>0.0</td>\n",
       "      <td>0.0</td>\n",
       "      <td>56.48</td>\n",
       "    </tr>\n",
       "  </tbody>\n",
       "</table>\n",
       "<p>43776 rows × 4 columns</p>\n",
       "</div>"
      ],
      "text/plain": [
       "                     GAWW-14  vacation_dummy  holiday_dummy  stringency_index\n",
       "datetime                                                                     \n",
       "2020-09-01 00:00:00     32.0             0.0            0.0             50.93\n",
       "2020-09-01 00:15:00     30.0             0.0            0.0             50.93\n",
       "2020-09-01 00:30:00     27.0             0.0            0.0             50.93\n",
       "2020-09-01 00:45:00     26.0             0.0            0.0             50.93\n",
       "2020-09-01 01:00:00     43.0             0.0            0.0             50.93\n",
       "...                      ...             ...            ...               ...\n",
       "2021-11-30 22:45:00     15.0             0.0            0.0             56.48\n",
       "2021-11-30 23:00:00     20.0             0.0            0.0             56.48\n",
       "2021-11-30 23:15:00     19.0             0.0            0.0             56.48\n",
       "2021-11-30 23:30:00     15.0             0.0            0.0             56.48\n",
       "2021-11-30 23:45:00     13.0             0.0            0.0             56.48\n",
       "\n",
       "[43776 rows x 4 columns]"
      ]
     },
     "execution_count": 144,
     "metadata": {},
     "output_type": "execute_result"
    }
   ],
   "source": [
    "df_train_14"
   ]
  },
  {
   "cell_type": "code",
   "execution_count": 145,
   "id": "db8633e0",
   "metadata": {},
   "outputs": [],
   "source": [
    "corr_11 = df_train_11.corr()\n",
    "corr_12 = df_train_12.corr()\n",
    "corr_14 = df_train_14.corr()"
   ]
  },
  {
   "cell_type": "code",
   "execution_count": 155,
   "id": "1936b22d",
   "metadata": {},
   "outputs": [
    {
     "data": {
      "text/plain": [
       "<AxesSubplot:>"
      ]
     },
     "execution_count": 155,
     "metadata": {},
     "output_type": "execute_result"
    },
    {
     "data": {
      "image/png": "[encoded data removed]",
      "text/plain": [
       "<Figure size 432x288 with 2 Axes>"
      ]
     },
     "metadata": {
      "needs_background": "light"
     },
     "output_type": "display_data"
    }
   ],
   "source": [
    "sns.heatmap(corr_11, annot=True)"
   ]
  },
  {
   "cell_type": "code",
   "execution_count": 156,
   "id": "57b21e6c",
   "metadata": {},
   "outputs": [
    {
     "data": {
      "text/plain": [
       "<AxesSubplot:>"
      ]
     },
     "execution_count": 156,
     "metadata": {},
     "output_type": "execute_result"
    },
    {
     "data": {
      "image/png": "[encoded data removed]",
      "text/plain": [
       "<Figure size 432x288 with 2 Axes>"
      ]
     },
     "metadata": {
      "needs_background": "light"
     },
     "output_type": "display_data"
    }
   ],
   "source": [
    "sns.heatmap(corr_12, annot=True)"
   ]
  },
  {
   "cell_type": "code",
   "execution_count": 154,
   "id": "549c03d9",
   "metadata": {},
   "outputs": [
    {
     "data": {
      "text/plain": [
       "<AxesSubplot:>"
      ]
     },
     "execution_count": 154,
     "metadata": {},
     "output_type": "execute_result"
    },
    {
     "data": {
      "image/png": "[encoded data removed]",
      "text/plain": [
       "<Figure size 432x288 with 2 Axes>"
      ]
     },
     "metadata": {
      "needs_background": "light"
     },
     "output_type": "display_data"
    }
   ],
   "source": [
    "sns.heatmap(corr_14, annot=True)"
   ]
  },
  {
   "cell_type": "code",
   "execution_count": 149,
   "id": "f8f3802d",
   "metadata": {},
   "outputs": [],
   "source": [
    "# remove features that cross correlate -> higher than 0.9\n",
    "def cross_corr(df, corr):\n",
    "    columns = np.full((corr.shape[0],), True, dtype=bool)\n",
    "    for i in range(corr.shape[0]):\n",
    "        for j in range(i+1, corr.shape[0]):\n",
    "            if corr.iloc[i,j] >= 0.9:\n",
    "                if columns[j]:\n",
    "                    columns[j] = False\n",
    "    selected_columns = df.columns[columns]\n",
    "    df = df[selected_columns]\n",
    "    \n",
    "    return df"
   ]
  },
  {
   "cell_type": "code",
   "execution_count": 150,
   "id": "82050c14",
   "metadata": {},
   "outputs": [],
   "source": [
    "# cross_corr(df_train_12, corr_12)"
   ]
  },
  {
   "cell_type": "code",
   "execution_count": null,
   "id": "c282694c",
   "metadata": {},
   "outputs": [],
   "source": []
  },
  {
   "cell_type": "code",
   "execution_count": null,
   "id": "faea59bd",
   "metadata": {},
   "outputs": [],
   "source": []
  },
  {
   "cell_type": "code",
   "execution_count": null,
   "id": "33414557",
   "metadata": {},
   "outputs": [],
   "source": []
  }
 ],
 "metadata": {
  "kernelspec": {
   "display_name": "Python 3 (ipykernel)",
   "language": "python",
   "name": "python3"
  },
  "language_info": {
   "codemirror_mode": {
    "name": "ipython",
    "version": 3
   },
   "file_extension": ".py",
   "mimetype": "text/x-python",
   "name": "python",
   "nbconvert_exporter": "python",
   "pygments_lexer": "ipython3",
   "version": "3.8.8"
  }
 },
 "nbformat": 4,
 "nbformat_minor": 5
}
