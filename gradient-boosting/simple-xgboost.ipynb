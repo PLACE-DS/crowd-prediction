{
 "cells": [
  {
   "cell_type": "code",
   "execution_count": null,
   "metadata": {},
   "outputs": [],
   "source": [
    "import pandas as pd\n",
    "import numpy as np\n",
    "from sklearn.metrics import mean_absolute_error\n",
    "from xgboost import XGBRegressor\n",
    "from catboost import CatBoostRegressor\n",
    "from matplotlib import pyplot"
   ]
  },
  {
   "cell_type": "code",
   "execution_count": null,
   "metadata": {},
   "outputs": [],
   "source": [
    "cmsa = pd.read_csv(\"../data/cmsa_combined.csv\", index_col=\"Unnamed: 0\", parse_dates=True)"
   ]
  },
  {
   "cell_type": "markdown",
   "metadata": {},
   "source": [
    "## Prediction on sensor GAWW-11"
   ]
  },
  {
   "cell_type": "code",
   "execution_count": null,
   "metadata": {},
   "outputs": [],
   "source": [
    "sensors = ['GAWW-11', 'GAWW-12', 'GAWW-14']\n",
    "gaww11 = cmsa.drop(['GAWW-12', 'GAWW-14'], axis=1)\n",
    "gaww11.rename(columns={'GAWW-11':'crowd_count'}, inplace=True)\n",
    "gaww11.columns"
   ]
  },
  {
   "cell_type": "code",
   "execution_count": null,
   "metadata": {},
   "outputs": [],
   "source": [
    "gaww11['datetime'] = pd.to_datetime(gaww11['datetime'])\n",
    "\n",
    "gaww11['year']=gaww11['datetime'].dt.year \n",
    "gaww11['month']=gaww11['datetime'].dt.month \n",
    "gaww11['day']=gaww11['datetime'].dt.day\n",
    "gaww11['dayofweek']=gaww11['datetime'].dt.dayofweek\n",
    "gaww11['hour'] = gaww11['datetime'].dt.hour \n",
    "gaww11['minute'] = gaww11['datetime'].dt.minute"
   ]
  },
  {
   "cell_type": "code",
   "execution_count": null,
   "metadata": {},
   "outputs": [],
   "source": [
    "start_time_train = '2020-09-01 00:00:00'\n",
    "start_time_test = '2021-12-01 12:00:00'\n",
    "end_time_test = '2021-12-08 11:45:00'\n",
    "train = gaww11[(gaww11['datetime'] >= start_time_train) & (gaww11['datetime'] < start_time_test)]\n",
    "test = gaww11[(gaww11['datetime'] >= start_time_test) & (gaww11['datetime'] <= end_time_test)]"
   ]
  },
  {
   "cell_type": "code",
   "execution_count": null,
   "metadata": {},
   "outputs": [],
   "source": [
    "# Lagged crowd\n",
    "first_lag = 4*24*7 # the same time point of the week before\n",
    "lags = [first_lag, first_lag+1, first_lag+2, first_lag+4, first_lag+4*2, first_lag+4*3, first_lag+4*4, first_lag+4*5]\n",
    "for lag in lags:\n",
    "    gaww11['crowd_lag_'+str(lag)] = gaww11['crowd_count'].shift(lag)\n",
    "\n",
    "# GVB checkin checkout lags\n",
    "gvb_lag = 4*24*7\n",
    "gaww11['checkin_dam_lag'] = gaww11['checkin_dam'].shift(gvb_lag)\n",
    "gaww11['checkout_dam_lag'] = gaww11['checkout_dam'].shift(gvb_lag)\n",
    "gaww11['checkin_nieuwmarkt_lag'] = gaww11['checkin_nieuwmarkt'].shift(gvb_lag)\n",
    "gaww11['checkout_nieuwmarkt_lag'] = gaww11['checkout_nieuwmarkt'].shift(gvb_lag)"
   ]
  },
  {
   "cell_type": "code",
   "execution_count": null,
   "metadata": {},
   "outputs": [],
   "source": [
    "# mean crowd grouped by hour\n",
    "gaww11['avg_hour_crowd'] = train.groupby('hour')['crowd_count'].transform('mean')\n",
    "\n",
    "# mean crowd grouped by day of week\n",
    "gaww11['avg_dow_crowd'] = train.groupby('dayofweek')['crowd_count'].transform('mean')\n",
    "\n",
    "# mean crowd grouped by month\n",
    "gaww11['avg_month_crowd'] = train.groupby('month')['crowd_count'].transform('mean')"
   ]
  },
  {
   "cell_type": "code",
   "execution_count": null,
   "metadata": {},
   "outputs": [],
   "source": [
    "# move 1 week later for training set, because first week lag features are null \n",
    "start_time_train = '2020-09-08 00:00:00'\n",
    "start_time_test = '2021-12-01 12:00:00'\n",
    "end_time_test = '2021-12-08 11:45:00'\n",
    "\n",
    "train = gaww11[(gaww11['datetime'] >= start_time_train) & (gaww11['datetime'] < start_time_test)]\n",
    "test = gaww11[(gaww11['datetime'] >= start_time_test) & (gaww11['datetime'] <= end_time_test)]"
   ]
  },
  {
   "cell_type": "code",
   "execution_count": null,
   "metadata": {},
   "outputs": [],
   "source": [
    "xgb = XGBRegressor()\n",
    "\n",
    "X_train, y_train = train.drop([\"crowd_count\", \"datetime\", \"checkin_dam\", \"checkout_dam\", \"checkin_nieuwmarkt\", \"checkout_nieuwmarkt\"], axis=1), train[\"crowd_count\"]\n",
    "X_test, y_test = test.drop([\"crowd_count\", \"datetime\", \"checkin_dam\", \"checkout_dam\", \"checkin_nieuwmarkt\", \"checkout_nieuwmarkt\"], axis=1), test['crowd_count']\n",
    "\n",
    "xgb.fit(X_train, y_train)"
   ]
  },
  {
   "cell_type": "code",
   "execution_count": null,
   "metadata": {},
   "outputs": [],
   "source": [
    "from sklearn.metrics import mean_squared_error\n",
    "\n",
    "eval_pred = xgb.predict(X_test)\n",
    "mse = mean_squared_error(y_test, eval_pred, squared=False)\n",
    "print(\"RMSE of XGBoost: \", mse)"
   ]
  },
  {
   "cell_type": "code",
   "execution_count": null,
   "metadata": {},
   "outputs": [],
   "source": [
    "import matplotlib.pyplot as plt\n",
    "plt.rcParams['figure.figsize'] = [15, 5]\n",
    "\n",
    "ft_importances = pd.Series(xgb.feature_importances_, index=X_train.columns)\n",
    "ft_importances.nlargest(15).plot(kind='barh')\n",
    "plt.show()"
   ]
  },
  {
   "cell_type": "code",
   "execution_count": null,
   "metadata": {},
   "outputs": [],
   "source": [
    "test['crowd_pred'] = eval_pred"
   ]
  },
  {
   "cell_type": "code",
   "execution_count": null,
   "metadata": {},
   "outputs": [],
   "source": [
    "# Plot of actual vs predicted crowd count\n",
    "\n",
    "import plotly\n",
    "import plotly.graph_objects as go\n",
    "import plotly.io as pio\n",
    "\n",
    "trace1 = go.Scatter(x=test.datetime, y=test.crowd_count, mode='lines', name='Actual')\n",
    "trace2 = go.Scatter(x=test.datetime, y=test.crowd_pred, mode='lines', name='Predicted')\n",
    "fig = go.Figure([trace1, trace2])\n",
    "\n",
    "fig.show()"
   ]
  }
 ],
 "metadata": {
  "language_info": {
   "name": "python"
  },
  "orig_nbformat": 4
 },
 "nbformat": 4,
 "nbformat_minor": 2
}
