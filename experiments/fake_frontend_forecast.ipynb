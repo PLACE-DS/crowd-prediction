{
 "cells": [
  {
   "cell_type": "code",
   "execution_count": 12,
   "metadata": {
    "collapsed": true
   },
   "outputs": [],
   "source": [
    "import pandas as pd\n",
    "import numpy as np"
   ]
  },
  {
   "cell_type": "code",
   "execution_count": 52,
   "outputs": [
    {
     "data": {
      "text/plain": "                  datetime  GAWW-11  GAWW-12  GAWW-14\n43776  2021-12-01 00:00:00     18.0     16.0     13.0\n43777  2021-12-01 00:15:00     13.0     14.0     12.0\n43778  2021-12-01 00:30:00     12.0     12.0      9.0\n43779  2021-12-01 00:45:00     11.0     13.0      9.0\n43780  2021-12-01 01:00:00     12.0     12.0     10.0",
      "text/html": "<div>\n<style scoped>\n    .dataframe tbody tr th:only-of-type {\n        vertical-align: middle;\n    }\n\n    .dataframe tbody tr th {\n        vertical-align: top;\n    }\n\n    .dataframe thead th {\n        text-align: right;\n    }\n</style>\n<table border=\"1\" class=\"dataframe\">\n  <thead>\n    <tr style=\"text-align: right;\">\n      <th></th>\n      <th>datetime</th>\n      <th>GAWW-11</th>\n      <th>GAWW-12</th>\n      <th>GAWW-14</th>\n    </tr>\n  </thead>\n  <tbody>\n    <tr>\n      <th>43776</th>\n      <td>2021-12-01 00:00:00</td>\n      <td>18.0</td>\n      <td>16.0</td>\n      <td>13.0</td>\n    </tr>\n    <tr>\n      <th>43777</th>\n      <td>2021-12-01 00:15:00</td>\n      <td>13.0</td>\n      <td>14.0</td>\n      <td>12.0</td>\n    </tr>\n    <tr>\n      <th>43778</th>\n      <td>2021-12-01 00:30:00</td>\n      <td>12.0</td>\n      <td>12.0</td>\n      <td>9.0</td>\n    </tr>\n    <tr>\n      <th>43779</th>\n      <td>2021-12-01 00:45:00</td>\n      <td>11.0</td>\n      <td>13.0</td>\n      <td>9.0</td>\n    </tr>\n    <tr>\n      <th>43780</th>\n      <td>2021-12-01 01:00:00</td>\n      <td>12.0</td>\n      <td>12.0</td>\n      <td>10.0</td>\n    </tr>\n  </tbody>\n</table>\n</div>"
     },
     "execution_count": 52,
     "metadata": {},
     "output_type": "execute_result"
    }
   ],
   "source": [
    "df = pd.read_csv('../data/cmsa_baseline.csv')\n",
    "df = df[['datetime','GAWW-11', 'GAWW-12', 'GAWW-14']]\n",
    "df = df[df.datetime.between('2021-12-01', '2021-12-07')]\n",
    "df.head()"
   ],
   "metadata": {
    "collapsed": false,
    "pycharm": {
     "name": "#%%\n"
    }
   }
  },
  {
   "cell_type": "code",
   "execution_count": 53,
   "outputs": [],
   "source": [
    "noise = np.random.normal(0, 5, [df.shape[0],3])\n",
    "signal = df[['GAWW-11', 'GAWW-12', 'GAWW-14']]\n",
    "time_col = df['datetime']\n",
    "signal = signal + noise"
   ],
   "metadata": {
    "collapsed": false,
    "pycharm": {
     "name": "#%%\n"
    }
   }
  },
  {
   "cell_type": "code",
   "execution_count": 58,
   "outputs": [],
   "source": [
    "for column_name, column in signal.iteritems():\n",
    "    column.rename('prediction', inplace=True)\n",
    "    df = pd.DataFrame(column)\n",
    "    df['upper'] = df.prediction * 1.2\n",
    "    df['lower'] = df.prediction * 0.8\n",
    "    df.to_csv(f'{column_name}.csv')"
   ],
   "metadata": {
    "collapsed": false,
    "pycharm": {
     "name": "#%%\n"
    }
   }
  }
 ],
 "metadata": {
  "kernelspec": {
   "display_name": "Python 3",
   "language": "python",
   "name": "python3"
  },
  "language_info": {
   "codemirror_mode": {
    "name": "ipython",
    "version": 2
   },
   "file_extension": ".py",
   "mimetype": "text/x-python",
   "name": "python",
   "nbconvert_exporter": "python",
   "pygments_lexer": "ipython2",
   "version": "2.7.6"
  }
 },
 "nbformat": 4,
 "nbformat_minor": 0
}